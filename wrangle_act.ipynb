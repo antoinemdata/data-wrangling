{
 "cells": [
  {
   "cell_type": "code",
   "execution_count": 81,
   "metadata": {},
   "outputs": [],
   "source": [
    "import pandas as pd\n",
    "import seaborn as sb\n",
    "import matplotlib.pyplot as plt\n",
    "import requests\n",
    "import io\n",
    "import numpy as np\n",
    "import re\n",
    "import tweepy\n",
    "import datetime as dt\n",
    "try:\n",
    "    import json\n",
    "except ImportError:\n",
    "    import simplejson as json"
   ]
  },
  {
   "cell_type": "markdown",
   "metadata": {},
   "source": [
    "### Gathering the data"
   ]
  },
  {
   "cell_type": "code",
   "execution_count": 82,
   "metadata": {},
   "outputs": [],
   "source": [
    "twitter_archive=pd.read_csv('twitter-archive-enhanced.csv')"
   ]
  },
  {
   "cell_type": "code",
   "execution_count": 83,
   "metadata": {},
   "outputs": [],
   "source": [
    "#twitter_archive['tweet_id'][1501]"
   ]
  },
  {
   "cell_type": "code",
   "execution_count": 84,
   "metadata": {},
   "outputs": [],
   "source": [
    "#len(twitter_archive)"
   ]
  },
  {
   "cell_type": "code",
   "execution_count": 85,
   "metadata": {},
   "outputs": [],
   "source": [
    "image_predictions = requests.get('https://d17h27t6h515a5.cloudfront.net/topher/2017/August/599fd2ad_image-predictions/image-predictions.tsv', auth=('user', 'pass')).content"
   ]
  },
  {
   "cell_type": "code",
   "execution_count": 86,
   "metadata": {},
   "outputs": [],
   "source": [
    "image_predictions = pd.read_csv(io.StringIO(image_predictions.decode('utf-8')),sep=\"\\t\",)"
   ]
  },
  {
   "cell_type": "code",
   "execution_count": 87,
   "metadata": {},
   "outputs": [
    {
     "data": {
      "text/html": [
       "<div>\n",
       "<style scoped>\n",
       "    .dataframe tbody tr th:only-of-type {\n",
       "        vertical-align: middle;\n",
       "    }\n",
       "\n",
       "    .dataframe tbody tr th {\n",
       "        vertical-align: top;\n",
       "    }\n",
       "\n",
       "    .dataframe thead th {\n",
       "        text-align: right;\n",
       "    }\n",
       "</style>\n",
       "<table border=\"1\" class=\"dataframe\">\n",
       "  <thead>\n",
       "    <tr style=\"text-align: right;\">\n",
       "      <th></th>\n",
       "      <th>tweet_id</th>\n",
       "      <th>jpg_url</th>\n",
       "      <th>img_num</th>\n",
       "      <th>p1</th>\n",
       "      <th>p1_conf</th>\n",
       "      <th>p1_dog</th>\n",
       "      <th>p2</th>\n",
       "      <th>p2_conf</th>\n",
       "      <th>p2_dog</th>\n",
       "      <th>p3</th>\n",
       "      <th>p3_conf</th>\n",
       "      <th>p3_dog</th>\n",
       "    </tr>\n",
       "  </thead>\n",
       "  <tbody>\n",
       "    <tr>\n",
       "      <th>0</th>\n",
       "      <td>666020888022790149</td>\n",
       "      <td>https://pbs.twimg.com/media/CT4udn0WwAA0aMy.jpg</td>\n",
       "      <td>1</td>\n",
       "      <td>Welsh_springer_spaniel</td>\n",
       "      <td>0.465074</td>\n",
       "      <td>True</td>\n",
       "      <td>collie</td>\n",
       "      <td>0.156665</td>\n",
       "      <td>True</td>\n",
       "      <td>Shetland_sheepdog</td>\n",
       "      <td>0.061428</td>\n",
       "      <td>True</td>\n",
       "    </tr>\n",
       "    <tr>\n",
       "      <th>1</th>\n",
       "      <td>666029285002620928</td>\n",
       "      <td>https://pbs.twimg.com/media/CT42GRgUYAA5iDo.jpg</td>\n",
       "      <td>1</td>\n",
       "      <td>redbone</td>\n",
       "      <td>0.506826</td>\n",
       "      <td>True</td>\n",
       "      <td>miniature_pinscher</td>\n",
       "      <td>0.074192</td>\n",
       "      <td>True</td>\n",
       "      <td>Rhodesian_ridgeback</td>\n",
       "      <td>0.072010</td>\n",
       "      <td>True</td>\n",
       "    </tr>\n",
       "    <tr>\n",
       "      <th>2</th>\n",
       "      <td>666033412701032449</td>\n",
       "      <td>https://pbs.twimg.com/media/CT4521TWwAEvMyu.jpg</td>\n",
       "      <td>1</td>\n",
       "      <td>German_shepherd</td>\n",
       "      <td>0.596461</td>\n",
       "      <td>True</td>\n",
       "      <td>malinois</td>\n",
       "      <td>0.138584</td>\n",
       "      <td>True</td>\n",
       "      <td>bloodhound</td>\n",
       "      <td>0.116197</td>\n",
       "      <td>True</td>\n",
       "    </tr>\n",
       "    <tr>\n",
       "      <th>3</th>\n",
       "      <td>666044226329800704</td>\n",
       "      <td>https://pbs.twimg.com/media/CT5Dr8HUEAA-lEu.jpg</td>\n",
       "      <td>1</td>\n",
       "      <td>Rhodesian_ridgeback</td>\n",
       "      <td>0.408143</td>\n",
       "      <td>True</td>\n",
       "      <td>redbone</td>\n",
       "      <td>0.360687</td>\n",
       "      <td>True</td>\n",
       "      <td>miniature_pinscher</td>\n",
       "      <td>0.222752</td>\n",
       "      <td>True</td>\n",
       "    </tr>\n",
       "    <tr>\n",
       "      <th>4</th>\n",
       "      <td>666049248165822465</td>\n",
       "      <td>https://pbs.twimg.com/media/CT5IQmsXIAAKY4A.jpg</td>\n",
       "      <td>1</td>\n",
       "      <td>miniature_pinscher</td>\n",
       "      <td>0.560311</td>\n",
       "      <td>True</td>\n",
       "      <td>Rottweiler</td>\n",
       "      <td>0.243682</td>\n",
       "      <td>True</td>\n",
       "      <td>Doberman</td>\n",
       "      <td>0.154629</td>\n",
       "      <td>True</td>\n",
       "    </tr>\n",
       "  </tbody>\n",
       "</table>\n",
       "</div>"
      ],
      "text/plain": [
       "             tweet_id                                          jpg_url  \\\n",
       "0  666020888022790149  https://pbs.twimg.com/media/CT4udn0WwAA0aMy.jpg   \n",
       "1  666029285002620928  https://pbs.twimg.com/media/CT42GRgUYAA5iDo.jpg   \n",
       "2  666033412701032449  https://pbs.twimg.com/media/CT4521TWwAEvMyu.jpg   \n",
       "3  666044226329800704  https://pbs.twimg.com/media/CT5Dr8HUEAA-lEu.jpg   \n",
       "4  666049248165822465  https://pbs.twimg.com/media/CT5IQmsXIAAKY4A.jpg   \n",
       "\n",
       "   img_num                      p1   p1_conf  p1_dog                  p2  \\\n",
       "0        1  Welsh_springer_spaniel  0.465074    True              collie   \n",
       "1        1                 redbone  0.506826    True  miniature_pinscher   \n",
       "2        1         German_shepherd  0.596461    True            malinois   \n",
       "3        1     Rhodesian_ridgeback  0.408143    True             redbone   \n",
       "4        1      miniature_pinscher  0.560311    True          Rottweiler   \n",
       "\n",
       "    p2_conf  p2_dog                   p3   p3_conf  p3_dog  \n",
       "0  0.156665    True    Shetland_sheepdog  0.061428    True  \n",
       "1  0.074192    True  Rhodesian_ridgeback  0.072010    True  \n",
       "2  0.138584    True           bloodhound  0.116197    True  \n",
       "3  0.360687    True   miniature_pinscher  0.222752    True  \n",
       "4  0.243682    True             Doberman  0.154629    True  "
      ]
     },
     "execution_count": 87,
     "metadata": {},
     "output_type": "execute_result"
    }
   ],
   "source": [
    "image_predictions.head(5)"
   ]
  },
  {
   "cell_type": "code",
   "execution_count": 88,
   "metadata": {},
   "outputs": [],
   "source": [
    "#auth = tweepy.OAuthHandler()"
   ]
  },
  {
   "cell_type": "code",
   "execution_count": 89,
   "metadata": {},
   "outputs": [],
   "source": [
    "#auth.set_access_token()"
   ]
  },
  {
   "cell_type": "code",
   "execution_count": 90,
   "metadata": {},
   "outputs": [],
   "source": [
    "#api = tweepy.API(auth, wait_on_rate_limit=True, wait_on_rate_limit_notify=True, compression=True)"
   ]
  },
  {
   "cell_type": "code",
   "execution_count": 91,
   "metadata": {},
   "outputs": [],
   "source": [
    "#try:\n",
    "    #api.verify_credentials()\n",
    "    #print(\"Authentification OK\")\n",
    "#except:\n",
    "    #print(\"Error\")"
   ]
  },
  {
   "cell_type": "code",
   "execution_count": 92,
   "metadata": {},
   "outputs": [],
   "source": [
    "#tweet_file=[]\n",
    "#for tweet in range(500,1000):\n",
    "    #try: \n",
    "        #tweet_status=api.get_status(id=twitter_archive['tweet_id'][tweet])\n",
    "        #with open('tweet_json.txt', 'a') as f:\n",
    "            #json.dump(tweet_status._json,f)\n",
    "            #f.write('\\n')    \n",
    "    #except:\n",
    "        #print(twitter_archive['tweet_id'][tweet])\n"
   ]
  },
  {
   "cell_type": "code",
   "execution_count": 93,
   "metadata": {},
   "outputs": [],
   "source": [
    "#tweet_file=[]\n",
    "#for tweet in range(1500,2000):\n",
    "    #try: \n",
    "        #tweet_status=api.get_status(id=twitter_archive['tweet_id'][tweet])\n",
    "        #with open('tweet_json.txt', 'a') as f:\n",
    "            #json.dump(tweet_status._json,f)\n",
    "            #f.write('\\n')    \n",
    "    #except:\n",
    "        #print(twitter_archive['tweet_id'][tweet])\n",
    "#f.close()\n"
   ]
  },
  {
   "cell_type": "markdown",
   "metadata": {},
   "source": [
    "Tweets with status not found\n",
    "\n",
    "1) 888202515573088257\n",
    "\n",
    "2) 873697596434513921\n",
    "\n",
    "3) 872668790621863937\n",
    "\n",
    "4) 872261713294495745\n",
    "\n",
    "5) 869988702071779329\n",
    "\n",
    "6) 866816280283807744\n",
    "\n",
    "7) 861769973181624320\n",
    "\n",
    "8) 856602993587888130\n",
    "\n",
    "9) 851953902622658560\n",
    "\n",
    "10) 845459076796616705\n",
    "\n",
    "11) 844704788403113984\n",
    "\n",
    "12) 842892208864923648\n",
    "\n",
    "13) 837366284874571778\n",
    "\n",
    "14) 837012587749474308\n",
    "\n",
    "15) 829374341691346946\n",
    "\n",
    "16) 827228250799742977\n",
    "\n",
    "17) 812747805718642688\n",
    "\n",
    "18) 802247111496568832\n",
    "\n",
    "19) 779123168116150273\n",
    "\n",
    "20) 775096608509886464\n",
    "\n",
    "21) 771004394259247104\n",
    "\n",
    "22) 770743923962707968\n",
    "\n",
    "23) 759566828574212096\n",
    "\n",
    "24) 754011816964026368\n",
    "\n",
    "25) 680055455951884288"
   ]
  },
  {
   "cell_type": "markdown",
   "metadata": {},
   "source": [
    "I've checked for one ID to be sure that the tweet wasn't in Twitter"
   ]
  },
  {
   "cell_type": "code",
   "execution_count": 94,
   "metadata": {
    "scrolled": false
   },
   "outputs": [],
   "source": [
    "#tweet_status=api.get_status(id=888202515573088257)['id']\n",
    "#try: \n",
    "    #with open('tweet_json.txt', 'a') as f:\n",
    "        #json.dump(tweet_status._json,f)\n",
    "        #f.write('\\n')    \n",
    "#except:\n",
    "    #print(twitter_archive['tweet_id'][tweet])"
   ]
  },
  {
   "cell_type": "markdown",
   "metadata": {},
   "source": [
    "I've created a Pandas Dataframe with the .txt Json data from Twitter."
   ]
  },
  {
   "cell_type": "code",
   "execution_count": 95,
   "metadata": {},
   "outputs": [],
   "source": [
    "dataframe = []\n",
    "tweets_file=open('tweet_json.txt')\n",
    "dataframe=pd.DataFrame([json.loads(line.strip())['id'],json.loads(line.strip())['favorite_count'],json.loads(line.strip())['retweet_count']] for line in tweets_file)\n",
    "dataframe.columns=['tweet_id','favorite_count','retweet_count']"
   ]
  },
  {
   "cell_type": "markdown",
   "metadata": {},
   "source": [
    "I wanted to check if I got the right data size. Indeed 2356 - 25= 2331"
   ]
  },
  {
   "cell_type": "code",
   "execution_count": 96,
   "metadata": {
    "scrolled": false
   },
   "outputs": [
    {
     "data": {
      "text/plain": [
       "2331"
      ]
     },
     "execution_count": 96,
     "metadata": {},
     "output_type": "execute_result"
    }
   ],
   "source": [
    "len(dataframe)"
   ]
  },
  {
   "cell_type": "code",
   "execution_count": 97,
   "metadata": {},
   "outputs": [],
   "source": [
    "final_dataframe = pd.merge(twitter_archive, dataframe,  how='left', left_on='tweet_id', right_on = 'tweet_id')"
   ]
  },
  {
   "cell_type": "code",
   "execution_count": 98,
   "metadata": {},
   "outputs": [],
   "source": [
    "final_dataframe=pd.merge(final_dataframe,image_predictions,how='left',left_on='tweet_id',right_on='tweet_id')"
   ]
  },
  {
   "cell_type": "markdown",
   "metadata": {},
   "source": [
    "### Data Assessment\n",
    "\n",
    "- There are rows that don't contain either favorite or retweet counts.\n",
    "- Not every observation has got image predictions.\n",
    "- Favorite/Retweet counts are in float types and not int types\n",
    "- Timestamp is in string type and not in datatime type\n",
    "- 'img_num' isn't in integral but is in float.\n",
    "Tidyness Issues:\n",
    "- There are several variables for only one use ('What is the dog race'). One variable with dog race would be enough\n",
    "\n"
   ]
  },
  {
   "cell_type": "code",
   "execution_count": 99,
   "metadata": {
    "scrolled": false
   },
   "outputs": [
    {
     "name": "stdout",
     "output_type": "stream",
     "text": [
      "<class 'pandas.core.frame.DataFrame'>\n",
      "Int64Index: 2356 entries, 0 to 2355\n",
      "Data columns (total 30 columns):\n",
      "tweet_id                      2356 non-null int64\n",
      "in_reply_to_status_id         78 non-null float64\n",
      "in_reply_to_user_id           78 non-null float64\n",
      "timestamp                     2356 non-null object\n",
      "source                        2356 non-null object\n",
      "text                          2356 non-null object\n",
      "retweeted_status_id           181 non-null float64\n",
      "retweeted_status_user_id      181 non-null float64\n",
      "retweeted_status_timestamp    181 non-null object\n",
      "expanded_urls                 2297 non-null object\n",
      "rating_numerator              2356 non-null int64\n",
      "rating_denominator            2356 non-null int64\n",
      "name                          2356 non-null object\n",
      "doggo                         2356 non-null object\n",
      "floofer                       2356 non-null object\n",
      "pupper                        2356 non-null object\n",
      "puppo                         2356 non-null object\n",
      "favorite_count                2331 non-null float64\n",
      "retweet_count                 2331 non-null float64\n",
      "jpg_url                       2075 non-null object\n",
      "img_num                       2075 non-null float64\n",
      "p1                            2075 non-null object\n",
      "p1_conf                       2075 non-null float64\n",
      "p1_dog                        2075 non-null object\n",
      "p2                            2075 non-null object\n",
      "p2_conf                       2075 non-null float64\n",
      "p2_dog                        2075 non-null object\n",
      "p3                            2075 non-null object\n",
      "p3_conf                       2075 non-null float64\n",
      "p3_dog                        2075 non-null object\n",
      "dtypes: float64(10), int64(3), object(17)\n",
      "memory usage: 570.6+ KB\n"
     ]
    }
   ],
   "source": [
    "final_dataframe.info()"
   ]
  },
  {
   "cell_type": "markdown",
   "metadata": {},
   "source": [
    "- The source variable isn't formatted to be used, because it mixes http coding, URL address and anchoring text.\n",
    "- Source: URL and text are messy in one column. I would like two columns: URL and link text"
   ]
  },
  {
   "cell_type": "code",
   "execution_count": 100,
   "metadata": {},
   "outputs": [
    {
     "data": {
      "text/plain": [
       "<a href=\"http://twitter.com/download/iphone\" rel=\"nofollow\">Twitter for iPhone</a>     2221\n",
       "<a href=\"http://vine.co\" rel=\"nofollow\">Vine - Make a Scene</a>                          91\n",
       "<a href=\"http://twitter.com\" rel=\"nofollow\">Twitter Web Client</a>                       33\n",
       "<a href=\"https://about.twitter.com/products/tweetdeck\" rel=\"nofollow\">TweetDeck</a>      11\n",
       "Name: source, dtype: int64"
      ]
     },
     "execution_count": 100,
     "metadata": {},
     "output_type": "execute_result"
    }
   ],
   "source": [
    "final_dataframe['source'].value_counts()"
   ]
  },
  {
   "cell_type": "markdown",
   "metadata": {},
   "source": [
    "- \"expanded URL\" should only contain one Twitter URL, and it can contain a lot of URLs. Some URLs are from a different source, but lots of URLs have got the same URL."
   ]
  },
  {
   "cell_type": "code",
   "execution_count": 101,
   "metadata": {
    "scrolled": false
   },
   "outputs": [
    {
     "data": {
      "text/plain": [
       "https://twitter.com/dog_rates/status/667866724293877760/photo/1                                                                                                                                                                                                                                              2\n",
       "https://twitter.com/dog_rates/status/841077006473256960/photo/1                                                                                                                                                                                                                                              2\n",
       "https://twitter.com/dog_rates/status/767754930266464257/photo/1                                                                                                                                                                                                                                              2\n",
       "https://twitter.com/dog_rates/status/816450570814898180/photo/1,https://twitter.com/dog_rates/status/816450570814898180/photo/1                                                                                                                                                                              2\n",
       "https://www.gofundme.com/surgeryforjacktheminpin,https://twitter.com/dog_rates/status/815990720817401858/photo/1                                                                                                                                                                                             2\n",
       "https://twitter.com/dog_rates/status/819227688460238848/photo/1                                                                                                                                                                                                                                              2\n",
       "https://twitter.com/dog_rates/status/669000397445533696/photo/1                                                                                                                                                                                                                                              2\n",
       "https://www.gofundme.com/my-puppys-double-cataract-surgery,https://twitter.com/dog_rates/status/825026590719483904/photo/1,https://twitter.com/dog_rates/status/825026590719483904/photo/1                                                                                                                   2\n",
       "https://twitter.com/dog_rates/status/773308824254029826/photo/1                                                                                                                                                                                                                                              2\n",
       "https://twitter.com/dog_rates/status/667152164079423490/photo/1                                                                                                                                                                                                                                              2\n",
       "https://twitter.com/dog_rates/status/666104133288665088/photo/1                                                                                                                                                                                                                                              2\n",
       "https://twitter.com/dog_rates/status/786963064373534720/photo/1                                                                                                                                                                                                                                              2\n",
       "https://www.loveyourmelon.com/pages/ourstory,https://twitter.com/dog_rates/status/820314633777061888/photo/1,https://twitter.com/dog_rates/status/820314633777061888/photo/1,https://twitter.com/dog_rates/status/820314633777061888/photo/1                                                                 2\n",
       "https://twitter.com/dog_rates/status/810254108431155201/photo/1                                                                                                                                                                                                                                              2\n",
       "https://twitter.com/dog_rates/status/771380798096281600/photo/1,https://twitter.com/dog_rates/status/771380798096281600/photo/1,https://twitter.com/dog_rates/status/771380798096281600/photo/1,https://twitter.com/dog_rates/status/771380798096281600/photo/1                                              2\n",
       "https://twitter.com/dog_rates/status/842163532590374912/photo/1,https://twitter.com/dog_rates/status/842163532590374912/photo/1                                                                                                                                                                              2\n",
       "https://twitter.com/dog_rates/status/681694085539872773/photo/1                                                                                                                                                                                                                                              2\n",
       "https://twitter.com/dog_rates/status/750719632563142656/photo/1                                                                                                                                                                                                                                              2\n",
       "https://twitter.com/dog_rates/status/832369877331693569/photo/1                                                                                                                                                                                                                                              2\n",
       "https://twitter.com/dog_rates/status/809220051211603969/photo/1,https://twitter.com/dog_rates/status/809220051211603969/photo/1                                                                                                                                                                              2\n",
       "https://twitter.com/dog_rates/status/759447681597108224/photo/1                                                                                                                                                                                                                                              2\n",
       "https://twitter.com/dog_rates/status/866450705531457537/photo/1,https://twitter.com/dog_rates/status/866450705531457537/photo/1                                                                                                                                                                              2\n",
       "https://twitter.com/dog_rates/status/739238157791694849/video/1                                                                                                                                                                                                                                              2\n",
       "https://twitter.com/dog_rates/status/774314403806253056/photo/1,https://twitter.com/dog_rates/status/774314403806253056/photo/1,https://twitter.com/dog_rates/status/774314403806253056/photo/1,https://twitter.com/dog_rates/status/774314403806253056/photo/1                                              2\n",
       "https://twitter.com/dog_rates/status/761672994376806400/video/1                                                                                                                                                                                                                                              2\n",
       "https://twitter.com/dog_rates/status/786709082849828864/photo/1                                                                                                                                                                                                                                              2\n",
       "http://www.gofundme.com/bluethewhitehusky,https://twitter.com/dog_rates/status/831650051525054464/photo/1,https://twitter.com/dog_rates/status/831650051525054464/photo/1,https://twitter.com/dog_rates/status/831650051525054464/photo/1,https://twitter.com/dog_rates/status/831650051525054464/photo/1    2\n",
       "https://twitter.com/dog_rates/status/687317306314240000/photo/1,https://twitter.com/dog_rates/status/687317306314240000/photo/1                                                                                                                                                                              2\n",
       "https://twitter.com/dog_rates/status/679462823135686656/photo/1                                                                                                                                                                                                                                              2\n",
       "https://www.gofundme.com/helpquinny,https://twitter.com/dog_rates/status/863062471531167744/photo/1,https://twitter.com/dog_rates/status/863062471531167744/photo/1,https://twitter.com/dog_rates/status/863062471531167744/photo/1,https://twitter.com/dog_rates/status/863062471531167744/photo/1          2\n",
       "                                                                                                                                                                                                                                                                                                            ..\n",
       "https://vine.co/v/5QWd3LZqXxd                                                                                                                                                                                                                                                                                1\n",
       "https://twitter.com/dog_rates/status/679062614270468097/photo/1,https://twitter.com/dog_rates/status/679062614270468097/photo/1,https://twitter.com/dog_rates/status/679062614270468097/photo/1,https://twitter.com/dog_rates/status/679062614270468097/photo/1                                              1\n",
       "https://twitter.com/dog_rates/status/671488513339211776/photo/1                                                                                                                                                                                                                                              1\n",
       "https://twitter.com/dog_rates/status/689557536375177216/photo/1                                                                                                                                                                                                                                              1\n",
       "https://vine.co/v/iDrOvVqq0A6                                                                                                                                                                                                                                                                                1\n",
       "https://twitter.com/dog_rates/status/761599872357261312/photo/1                                                                                                                                                                                                                                              1\n",
       "https://twitter.com/dog_rates/status/813202720496779264/photo/1                                                                                                                                                                                                                                              1\n",
       "https://twitter.com/dog_rates/status/674075285688614912/photo/1                                                                                                                                                                                                                                              1\n",
       "https://twitter.com/dog_rates/status/768596291618299904/photo/1                                                                                                                                                                                                                                              1\n",
       "https://twitter.com/dog_rates/status/674019345211760640/photo/1                                                                                                                                                                                                                                              1\n",
       "https://twitter.com/dog_rates/status/734776360183431168/photo/1                                                                                                                                                                                                                                              1\n",
       "https://twitter.com/dog_rates/status/707297311098011648/photo/1,https://twitter.com/dog_rates/status/707297311098011648/photo/1                                                                                                                                                                              1\n",
       "https://twitter.com/dog_rates/status/680176173301628928/photo/1                                                                                                                                                                                                                                              1\n",
       "https://twitter.com/dog_rates/status/670361874861563904/photo/1                                                                                                                                                                                                                                              1\n",
       "https://twitter.com/dog_rates/status/666268910803644416/photo/1                                                                                                                                                                                                                                              1\n",
       "https://twitter.com/dog_rates/status/672604026190569472/photo/1                                                                                                                                                                                                                                              1\n",
       "https://twitter.com/dog_rates/status/670435821946826752/photo/1                                                                                                                                                                                                                                              1\n",
       "https://twitter.com/dog_rates/status/722974582966214656/photo/1                                                                                                                                                                                                                                              1\n",
       "https://twitter.com/dog_rates/status/766313316352462849/photo/1                                                                                                                                                                                                                                              1\n",
       "https://twitter.com/dog_rates/status/813112105746448384/photo/1                                                                                                                                                                                                                                              1\n",
       "https://twitter.com/dog_rates/status/675878199931371520/photo/1                                                                                                                                                                                                                                              1\n",
       "https://twitter.com/dog_rates/status/697616773278015490/photo/1,https://twitter.com/dog_rates/status/697616773278015490/photo/1                                                                                                                                                                              1\n",
       "https://vine.co/v/iJWKejYdLlh                                                                                                                                                                                                                                                                                1\n",
       "https://www.gofundme.com/help-strudel-walk-again?rcid=ec2be8b6f825461f8ee0fd5dcdf43fea,https://twitter.com/dog_rates/status/817415592588222464/photo/1                                                                                                                                                       1\n",
       "https://twitter.com/dog_rates/status/891689557279858688/photo/1                                                                                                                                                                                                                                              1\n",
       "https://twitter.com/dog_rates/status/677314812125323265/photo/1,https://twitter.com/dog_rates/status/677314812125323265/photo/1                                                                                                                                                                              1\n",
       "https://twitter.com/dog_rates/status/684460069371654144/photo/1                                                                                                                                                                                                                                              1\n",
       "https://twitter.com/dog_rates/status/747204161125646336/photo/1,https://twitter.com/dog_rates/status/747204161125646336/photo/1                                                                                                                                                                              1\n",
       "https://twitter.com/dog_rates/status/673343217010679808/photo/1                                                                                                                                                                                                                                              1\n",
       "https://twitter.com/dog_rates/status/876120275196170240/photo/1                                                                                                                                                                                                                                              1\n",
       "Name: expanded_urls, Length: 2218, dtype: int64"
      ]
     },
     "execution_count": 101,
     "metadata": {},
     "output_type": "execute_result"
    }
   ],
   "source": [
    "final_dataframe['expanded_urls'].value_counts()"
   ]
  },
  {
   "cell_type": "markdown",
   "metadata": {},
   "source": [
    "- Name\": the extraction methodology contains errors: \"a\",\"an\",\"quite\",\"my\",\"such\",\"one\",\"the\",\"not\".\"very\",\"all\",\"old\",\"life\",\"by\",\"space\" might be only \"None\"."
   ]
  },
  {
   "cell_type": "code",
   "execution_count": 102,
   "metadata": {
    "scrolled": false
   },
   "outputs": [
    {
     "data": {
      "text/plain": [
       "array(['Phineas', 'Tilly', 'Archie', 'Darla', 'Franklin', 'None', 'Jax',\n",
       "       'Zoey', 'Cassie', 'Koda', 'Bruno', 'Ted', 'Stuart', 'Oliver', 'Jim',\n",
       "       'Zeke', 'Ralphus', 'Canela', 'Gerald', 'Jeffrey', 'such', 'Maya',\n",
       "       'Mingus', 'Derek', 'Roscoe', 'Waffles', 'Jimbo', 'Maisey', 'Lilly',\n",
       "       'Earl', 'Lola', 'Kevin', 'Yogi', 'Noah', 'Bella', 'Grizzwald',\n",
       "       'Rusty', 'Gus', 'Stanley', 'Alfy', 'Koko', 'Rey', 'Gary', 'a',\n",
       "       'Elliot', 'Louis', 'Jesse', 'Romeo', 'Bailey', 'Duddles', 'Jack',\n",
       "       'Emmy', 'Steven', 'Beau', 'Snoopy', 'Shadow', 'Terrance', 'Aja',\n",
       "       'Penny', 'Dante', 'Nelly', 'Ginger', 'Benedict', 'Venti', 'Goose',\n",
       "       'Nugget', 'Cash', 'Coco', 'Jed', 'Sebastian', 'Walter', 'Sierra',\n",
       "       'Monkey', 'Harry', 'Kody', 'Lassie', 'Rover', 'Napolean', 'Dawn',\n",
       "       'Boomer', 'Cody', 'Rumble', 'Clifford', 'quite', 'Dewey', 'Scout',\n",
       "       'Gizmo', 'Cooper', 'Harold', 'Shikha', 'Jamesy', 'Lili', 'Sammy',\n",
       "       'Meatball', 'Paisley', 'Albus', 'Neptune', 'Quinn', 'Belle',\n",
       "       'Zooey', 'Dave', 'Jersey', 'Hobbes', 'Burt', 'Lorenzo', 'Carl',\n",
       "       'Jordy', 'Milky', 'Trooper', 'Winston', 'Sophie', 'Wyatt', 'Rosie',\n",
       "       'Thor', 'Oscar', 'Luna', 'Callie', 'Cermet', 'George', 'Marlee',\n",
       "       'Arya', 'Einstein', 'Alice', 'Rumpole', 'Benny', 'Aspen', 'Jarod',\n",
       "       'Wiggles', 'General', 'Sailor', 'Astrid', 'Iggy', 'Snoop', 'Kyle',\n",
       "       'Leo', 'Riley', 'Gidget', 'Noosh', 'Odin', 'Jerry', 'Charlie',\n",
       "       'Georgie', 'Rontu', 'Cannon', 'Furzey', 'Daisy', 'Tuck', 'Barney',\n",
       "       'Vixen', 'Jarvis', 'Mimosa', 'Pickles', 'Bungalo', 'Brady', 'Margo',\n",
       "       'Sadie', 'Hank', 'Tycho', 'Stephan', 'Indie', 'Winnie', 'Bentley',\n",
       "       'Ken', 'Max', 'Maddie', 'Pipsy', 'Monty', 'Sojourner', 'Odie',\n",
       "       'Arlo', 'Sunny', 'Vincent', 'Lucy', 'Clark', 'Mookie', 'Meera',\n",
       "       'Buddy', 'Ava', 'Rory', 'Eli', 'Ash', 'Tucker', 'Tobi', 'Chester',\n",
       "       'Wilson', 'Sunshine', 'Lipton', 'Gabby', 'Bronte', 'Poppy', 'Rhino',\n",
       "       'Willow', 'not', 'Orion', 'Eevee', 'Smiley', 'Logan', 'Moreton',\n",
       "       'Klein', 'Miguel', 'Emanuel', 'Kuyu', 'Dutch', 'Pete', 'Scooter',\n",
       "       'Reggie', 'Kyro', 'Samson', 'Loki', 'Mia', 'Malcolm', 'Dexter',\n",
       "       'Alfie', 'Fiona', 'one', 'Mutt', 'Bear', 'Doobert', 'Beebop',\n",
       "       'Alexander', 'Sailer', 'Brutus', 'Kona', 'Boots', 'Ralphie', 'Phil',\n",
       "       'Cupid', 'Pawnd', 'Pilot', 'Ike', 'Mo', 'Toby', 'Sweet', 'Pablo',\n",
       "       'Nala', 'Balto', 'Crawford', 'Gabe', 'Mattie', 'Jimison',\n",
       "       'Hercules', 'Duchess', 'Harlso', 'Sampson', 'Sundance', 'Luca',\n",
       "       'Flash', 'Finn', 'Peaches', 'Howie', 'Jazzy', 'Anna', 'Bo',\n",
       "       'Seamus', 'Wafer', 'Chelsea', 'Tom', 'Moose', 'Florence', 'Autumn',\n",
       "       'Dido', 'Eugene', 'Herschel', 'Strudel', 'Tebow', 'Chloe', 'Betty',\n",
       "       'Timber', 'Binky', 'Dudley', 'Comet', 'Larry', 'Levi', 'Akumi',\n",
       "       'Titan', 'Olivia', 'Alf', 'Oshie', 'Bruce', 'Chubbs', 'Sky',\n",
       "       'Atlas', 'Eleanor', 'Layla', 'Rocky', 'Baron', 'Tyr', 'Bauer',\n",
       "       'Swagger', 'Brandi', 'Mary', 'Moe', 'Halo', 'Augie', 'Craig', 'Sam',\n",
       "       'Hunter', 'Pavlov', 'Maximus', 'Wallace', 'Ito', 'Milo', 'Ollie',\n",
       "       'Cali', 'Lennon', 'incredibly', 'Major', 'Duke', 'Reginald',\n",
       "       'Sansa', 'Shooter', 'Django', 'Diogi', 'Sonny', 'Philbert',\n",
       "       'Marley', 'Severus', 'Ronnie', 'Anakin', 'Bones', 'Mauve', 'Chef',\n",
       "       'Doc', 'Sobe', 'Longfellow', 'Mister', 'Iroh', 'Baloo', 'Stubert',\n",
       "       'Paull', 'Timison', 'Davey', 'Pancake', 'Tyrone', 'Snicku', 'Ruby',\n",
       "       'Brody', 'Rizzy', 'Mack', 'Butter', 'Nimbus', 'Laika', 'Dobby',\n",
       "       'Juno', 'Maude', 'Lily', 'Newt', 'Benji', 'Nida', 'Robin',\n",
       "       'Monster', 'BeBe', 'Remus', 'Mabel', 'Misty', 'Happy', 'Mosby',\n",
       "       'Maggie', 'Leela', 'Ralphy', 'Brownie', 'Meyer', 'Stella', 'mad',\n",
       "       'Frank', 'Tonks', 'Lincoln', 'Oakley', 'Dale', 'Rizzo', 'Arnie',\n",
       "       'Pinot', 'Dallas', 'Hero', 'Frankie', 'Stormy', 'Mairi', 'Loomis',\n",
       "       'Godi', 'Kenny', 'Deacon', 'Timmy', 'Harper', 'Chipson', 'Combo',\n",
       "       'Dash', 'Bell', 'Hurley', 'Jay', 'Mya', 'Strider', 'an', 'Wesley',\n",
       "       'Solomon', 'Huck', 'very', 'O', 'Blue', 'Finley', 'Sprinkles',\n",
       "       'Heinrich', 'Shakespeare', 'Fizz', 'Chip', 'Grey', 'Roosevelt',\n",
       "       'Gromit', 'Willem', 'Dakota', 'Dixie', 'Al', 'Jackson', 'just',\n",
       "       'Carbon', 'DonDon', 'Kirby', 'Lou', 'Nollie', 'Chevy', 'Tito',\n",
       "       'Louie', 'Rupert', 'Rufus', 'Brudge', 'Shadoe', 'Colby', 'Angel',\n",
       "       'Brat', 'Tove', 'my', 'Aubie', 'Kota', 'Eve', 'Glenn', 'Shelby',\n",
       "       'Sephie', 'Bonaparte', 'Albert', 'Wishes', 'Rose', 'Theo', 'Rocco',\n",
       "       'Fido', 'Emma', 'Spencer', 'Lilli', 'Boston', 'Brandonald', 'Corey',\n",
       "       'Leonard', 'Chompsky', 'Beckham', 'Devón', 'Gert', 'Watson',\n",
       "       'Rubio', 'Keith', 'Dex', 'Carly', 'Ace', 'Tayzie', 'Grizzie',\n",
       "       'Fred', 'Gilbert', 'Zoe', 'Stewie', 'Calvin', 'Lilah', 'Spanky',\n",
       "       'Jameson', 'Piper', 'Atticus', 'Blu', 'Dietrich', 'Divine', 'Tripp',\n",
       "       'his', 'Cora', 'Huxley', 'Keurig', 'Bookstore', 'Linus', 'Abby',\n",
       "       'Shaggy', 'Shiloh', 'Gustav', 'Arlen', 'Percy', 'Lenox', 'Sugar',\n",
       "       'Harvey', 'Blanket', 'actually', 'Geno', 'Stark', 'Beya', 'Kilo',\n",
       "       'Kayla', 'Maxaroni', 'Doug', 'Edmund', 'Aqua', 'Theodore', 'Chase',\n",
       "       'getting', 'Rorie', 'Simba', 'Charles', 'Bayley', 'Axel',\n",
       "       'Storkson', 'Remy', 'Chadrick', 'Kellogg', 'Buckley', 'Livvie',\n",
       "       'Terry', 'Hermione', 'Ralpher', 'Aldrick', 'this', 'unacceptable',\n",
       "       'Rooney', 'Crystal', 'Ziva', 'Stefan', 'Pupcasso', 'Puff',\n",
       "       'Flurpson', 'Coleman', 'Enchilada', 'Raymond', 'all', 'Rueben',\n",
       "       'Cilantro', 'Karll', 'Sprout', 'Blitz', 'Bloop', 'Lillie',\n",
       "       'Ashleigh', 'Kreggory', 'Sarge', 'Luther', 'Ivar', 'Jangle',\n",
       "       'Schnitzel', 'Panda', 'Berkeley', 'Ralphé', 'Charleson', 'Clyde',\n",
       "       'Harnold', 'Sid', 'Pippa', 'Otis', 'Carper', 'Bowie',\n",
       "       'Alexanderson', 'Suki', 'Barclay', 'Skittle', 'Ebby', 'Flávio',\n",
       "       'Smokey', 'Link', 'Jennifur', 'Ozzy', 'Bluebert', 'Stephanus',\n",
       "       'Bubbles', 'old', 'Zeus', 'Bertson', 'Nico', 'Michelangelope',\n",
       "       'Siba', 'Calbert', 'Curtis', 'Travis', 'Thumas', 'Kanu', 'Lance',\n",
       "       'Opie', 'Kane', 'Olive', 'Chuckles', 'Staniel', 'Sora', 'Beemo',\n",
       "       'Gunner', 'infuriating', 'Lacy', 'Tater', 'Olaf', 'Cecil', 'Vince',\n",
       "       'Karma', 'Billy', 'Walker', 'Rodney', 'Klevin', 'Malikai', 'Bobble',\n",
       "       'River', 'Jebberson', 'Remington', 'Farfle', 'Jiminus', 'Clarkus',\n",
       "       'Finnegus', 'Cupcake', 'Kathmandu', 'Ellie', 'Katie', 'Kara',\n",
       "       'Adele', 'Zara', 'Ambrose', 'Jimothy', 'Bode', 'Terrenth', 'Reese',\n",
       "       'Chesterson', 'Lucia', 'Bisquick', 'Ralphson', 'Socks', 'Rambo',\n",
       "       'Rudy', 'Fiji', 'Rilo', 'Bilbo', 'Coopson', 'Yoda', 'Millie',\n",
       "       'Chet', 'Crouton', 'Daniel', 'Kaia', 'Murphy', 'Dotsy', 'Eazy',\n",
       "       'Coops', 'Fillup', 'Miley', 'Charl', 'Reagan', 'Yukon', 'CeCe',\n",
       "       'Cuddles', 'Claude', 'Jessiga', 'Carter', 'Ole', 'Pherb', 'Blipson',\n",
       "       'Reptar', 'Trevith', 'Berb', 'Bob', 'Colin', 'Brian', 'Oliviér',\n",
       "       'Grady', 'Kobe', 'Freddery', 'Bodie', 'Dunkin', 'Wally', 'Tupawc',\n",
       "       'Amber', 'Edgar', 'Teddy', 'Kingsley', 'Brockly', 'Richie', 'Molly',\n",
       "       'Vinscent', 'Cedrick', 'Hazel', 'Lolo', 'Eriq', 'Phred', 'the',\n",
       "       'Oddie', 'Maxwell', 'Geoff', 'Covach', 'Durg', 'Fynn', 'Ricky',\n",
       "       'Herald', 'Lucky', 'Ferg', 'Trip', 'Clarence', 'Hamrick', 'Brad',\n",
       "       'Pubert', 'Frönq', 'Derby', 'Lizzie', 'Ember', 'Blakely', 'Opal',\n",
       "       'Marq', 'Kramer', 'Barry', 'Gordon', 'Baxter', 'Mona', 'Horace',\n",
       "       'Crimson', 'Birf', 'Hammond', 'Lorelei', 'Marty', 'Brooks',\n",
       "       'Petrick', 'Hubertson', 'Gerbald', 'Oreo', 'Bruiser', 'Perry',\n",
       "       'Bobby', 'Jeph', 'Obi', 'Tino', 'Kulet', 'Sweets', 'Lupe', 'Tiger',\n",
       "       'Jiminy', 'Griffin', 'Banjo', 'Brandy', 'Lulu', 'Darrel', 'Taco',\n",
       "       'Joey', 'Patrick', 'Kreg', 'Todo', 'Tess', 'Ulysses', 'Toffee',\n",
       "       'Apollo', 'Asher', 'Glacier', 'Chuck', 'Champ', 'Ozzie', 'Griswold',\n",
       "       'Cheesy', 'Moofasa', 'Hector', 'Goliath', 'Kawhi', 'by', 'Emmie',\n",
       "       'Penelope', 'Willie', 'Rinna', 'Mike', 'William', 'Dwight', 'Evy',\n",
       "       'officially', 'Rascal', 'Linda', 'Tug', 'Tango', 'Grizz', 'Jerome',\n",
       "       'Crumpet', 'Jessifer', 'Izzy', 'Ralph', 'Sandy', 'Humphrey',\n",
       "       'Tassy', 'Juckson', 'Chuq', 'Tyrus', 'Karl', 'Godzilla', 'Vinnie',\n",
       "       'Kenneth', 'Herm', 'Bert', 'Striker', 'Donny', 'Pepper', 'Bernie',\n",
       "       'Buddah', 'Lenny', 'Arnold', 'Zuzu', 'Mollie', 'Laela', 'Tedders',\n",
       "       'Superpup', 'Rufio', 'Jeb', 'Rodman', 'Jonah', 'Chesney', 'life',\n",
       "       'Henry', 'Bobbay', 'Mitch', 'Kaiya', 'Acro', 'Aiden', 'Obie', 'Dot',\n",
       "       'Shnuggles', 'Kendall', 'Jeffri', 'Steve', 'Mac', 'Fletcher',\n",
       "       'Kenzie', 'Pumpkin', 'Schnozz', 'Gustaf', 'Cheryl', 'Ed',\n",
       "       'Leonidas', 'Norman', 'Caryl', 'Scott', 'Taz', 'Darby', 'Jackie',\n",
       "       'light', 'Jazz', 'Franq', 'Pippin', 'Rolf', 'Snickers', 'Ridley',\n",
       "       'Cal', 'Bradley', 'Bubba', 'Tuco', 'Patch', 'Mojo', 'Batdog',\n",
       "       'Dylan', 'space', 'Mark', 'JD', 'Alejandro', 'Scruffers', 'Pip',\n",
       "       'Julius', 'Tanner', 'Sparky', 'Anthony', 'Holly', 'Jett', 'Amy',\n",
       "       'Sage', 'Andy', 'Mason', 'Trigger', 'Antony', 'Creg', 'Traviss',\n",
       "       'Gin', 'Jeffrie', 'Danny', 'Ester', 'Pluto', 'Bloo', 'Edd', 'Willy',\n",
       "       'Herb', 'Damon', 'Peanut', 'Nigel', 'Butters', 'Sandra', 'Fabio',\n",
       "       'Randall', 'Liam', 'Tommy', 'Ben', 'Raphael', 'Julio', 'Andru',\n",
       "       'Kloey', 'Shawwn', 'Skye', 'Kollin', 'Ronduh', 'Billl', 'Saydee',\n",
       "       'Dug', 'Tessa', 'Sully', 'Kirk', 'Ralf', 'Clarq', 'Jaspers',\n",
       "       'Samsom', 'Harrison', 'Chaz', 'Jeremy', 'Jaycob', 'Lambeau',\n",
       "       'Ruffles', 'Amélie', 'Bobb', 'Banditt', 'Kevon', 'Winifred', 'Hanz',\n",
       "       'Churlie', 'Zeek', 'Timofy', 'Maks', 'Jomathan', 'Kallie', 'Marvin',\n",
       "       'Spark', 'Gòrdón', 'Jo', 'DayZ', 'Jareld', 'Torque', 'Ron',\n",
       "       'Skittles', 'Cleopatricia', 'Erik', 'Stu', 'Tedrick', 'Filup',\n",
       "       'Kial', 'Naphaniel', 'Dook', 'Hall', 'Philippe', 'Biden', 'Fwed',\n",
       "       'Genevieve', 'Joshwa', 'Bradlay', 'Clybe', 'Keet', 'Carll',\n",
       "       'Jockson', 'Josep', 'Lugan', 'Christoper'], dtype=object)"
      ]
     },
     "execution_count": 102,
     "metadata": {},
     "output_type": "execute_result"
    }
   ],
   "source": [
    "final_dataframe['name'].unique()"
   ]
  },
  {
   "cell_type": "markdown",
   "metadata": {},
   "source": [
    "- \"Name\": None should be a NaN value."
   ]
  },
  {
   "cell_type": "code",
   "execution_count": 103,
   "metadata": {},
   "outputs": [
    {
     "data": {
      "text/plain": [
       "None           745\n",
       "a               55\n",
       "Charlie         12\n",
       "Cooper          11\n",
       "Oliver          11\n",
       "Lucy            11\n",
       "Tucker          10\n",
       "Penny           10\n",
       "Lola            10\n",
       "Winston          9\n",
       "Bo               9\n",
       "the              8\n",
       "Sadie            8\n",
       "Toby             7\n",
       "Daisy            7\n",
       "Bailey           7\n",
       "Buddy            7\n",
       "an               7\n",
       "Scout            6\n",
       "Stanley          6\n",
       "Jax              6\n",
       "Leo              6\n",
       "Bella            6\n",
       "Jack             6\n",
       "Milo             6\n",
       "Oscar            6\n",
       "Rusty            6\n",
       "Dave             6\n",
       "Koda             6\n",
       "Sunny            5\n",
       "              ... \n",
       "Lillie           1\n",
       "Tove             1\n",
       "Petrick          1\n",
       "Monster          1\n",
       "Shakespeare      1\n",
       "Vince            1\n",
       "Spark            1\n",
       "Strider          1\n",
       "Jareld           1\n",
       "Pip              1\n",
       "Anna             1\n",
       "Sweet            1\n",
       "Sully            1\n",
       "Hamrick          1\n",
       "Chuq             1\n",
       "Zeus             1\n",
       "Bilbo            1\n",
       "Sweets           1\n",
       "Akumi            1\n",
       "Tobi             1\n",
       "Mo               1\n",
       "Tedrick          1\n",
       "Link             1\n",
       "General          1\n",
       "Jennifur         1\n",
       "Trigger          1\n",
       "Diogi            1\n",
       "Amy              1\n",
       "Tess             1\n",
       "Karl             1\n",
       "Name: name, Length: 957, dtype: int64"
      ]
     },
     "execution_count": 103,
     "metadata": {},
     "output_type": "execute_result"
    }
   ],
   "source": [
    "final_dataframe['name'].value_counts()"
   ]
  },
  {
   "cell_type": "markdown",
   "metadata": {},
   "source": [
    "- As the denominator isn't the same for every observation, the \"rating_numerator\" and \"rating_denominator\" isn't useful. We should have one variable to compare the ratings\n",
    "- So the numerator/denominator should be contained by only one column."
   ]
  },
  {
   "cell_type": "code",
   "execution_count": 104,
   "metadata": {},
   "outputs": [
    {
     "data": {
      "text/plain": [
       "10     2333\n",
       "11        3\n",
       "50        3\n",
       "80        2\n",
       "20        2\n",
       "2         1\n",
       "16        1\n",
       "40        1\n",
       "70        1\n",
       "15        1\n",
       "90        1\n",
       "110       1\n",
       "120       1\n",
       "130       1\n",
       "150       1\n",
       "170       1\n",
       "7         1\n",
       "0         1\n",
       "Name: rating_denominator, dtype: int64"
      ]
     },
     "execution_count": 104,
     "metadata": {},
     "output_type": "execute_result"
    }
   ],
   "source": [
    "final_dataframe['rating_denominator'].value_counts()"
   ]
  },
  {
   "cell_type": "markdown",
   "metadata": {},
   "source": [
    "- doggo/floofer/pupper/puppo are nicknames for dogs with only one value. They are in four columns instead of 1."
   ]
  },
  {
   "cell_type": "code",
   "execution_count": 105,
   "metadata": {},
   "outputs": [
    {
     "data": {
      "text/plain": [
       "None     2259\n",
       "doggo      97\n",
       "Name: doggo, dtype: int64"
      ]
     },
     "execution_count": 105,
     "metadata": {},
     "output_type": "execute_result"
    }
   ],
   "source": [
    "final_dataframe['doggo'].value_counts()"
   ]
  },
  {
   "cell_type": "code",
   "execution_count": 106,
   "metadata": {},
   "outputs": [
    {
     "data": {
      "text/plain": [
       "None     2326\n",
       "puppo      30\n",
       "Name: puppo, dtype: int64"
      ]
     },
     "execution_count": 106,
     "metadata": {},
     "output_type": "execute_result"
    }
   ],
   "source": [
    "final_dataframe['puppo'].value_counts()"
   ]
  },
  {
   "cell_type": "markdown",
   "metadata": {},
   "source": [
    "### Quality Issues:\n",
    "\n",
    "1) Some rows don't contain either favorite or retweet counts.\n",
    "\n",
    "2) Not every observation has got image predictions.\n",
    "\n",
    "3) Favorite/Retweet counts are in float types and not int types\n",
    "\n",
    "4) timestamp is in string type and not in datetime type\n",
    "\n",
    "5) The source variable isn't formatted to be used because it mixes HTTP coding, URL address and anchoring text.\n",
    "\n",
    "6) \"expanded URL\" should only contain one Twitter URL, and it can contain a lot of URLs. Some URLs are from a different source, but lots of URLs have got the same URL.\n",
    "\n",
    "7) \"Name\": the extraction methodology contains errors: \"a\",\"an\",\"quite\",\"my\",\"such\",\"one\",\"the\",\"not\".\"very\",\"all\",\"old\",\"life\",\"by\",\"space\" might be only \"None\".\n",
    "\n",
    "8) \"Name\": None should be a NaN value.\n",
    "\n",
    "9) 'img_num' isn't in integral but is in float.\n",
    "\n",
    "10) As the denominator isn't the same for every observation, the \"rating_numerator\" and \"rating_denominator\" isn't useful. We should have one variable to compare the ratings\n",
    "\n",
    "\n",
    "### Tidiness Issues:\n",
    "\n",
    "1) doggo/floofer/pupper/puppo are nicknames for dogs. They are in four columns instead of 1.\n",
    "\n",
    "2) Source: URL and text are messy in one column. I would like two columns: URL and link text\n",
    "\n",
    "3) The numerator/denominator should be contained by only one column.\n",
    "\n",
    "4) Create a prediction variable for p1/p2/p3\n",
    "\n"
   ]
  },
  {
   "cell_type": "markdown",
   "metadata": {},
   "source": [
    "### Copy the dataframe"
   ]
  },
  {
   "cell_type": "code",
   "execution_count": 107,
   "metadata": {},
   "outputs": [],
   "source": [
    "final_dataframe_copy=final_dataframe.copy()"
   ]
  },
  {
   "cell_type": "markdown",
   "metadata": {},
   "source": [
    "### One column for the doggo/floofer/pupper/puppo variables\n",
    "#### Define\n",
    "I would like to create one column with Doggo/floofer/pupper/puppo columns and not the four ones."
   ]
  },
  {
   "cell_type": "code",
   "execution_count": 108,
   "metadata": {
    "scrolled": false
   },
   "outputs": [
    {
     "name": "stdout",
     "output_type": "stream",
     "text": [
      "<class 'pandas.core.frame.DataFrame'>\n",
      "Int64Index: 2356 entries, 0 to 2355\n",
      "Data columns (total 30 columns):\n",
      "tweet_id                      2356 non-null int64\n",
      "in_reply_to_status_id         78 non-null float64\n",
      "in_reply_to_user_id           78 non-null float64\n",
      "timestamp                     2356 non-null object\n",
      "source                        2356 non-null object\n",
      "text                          2356 non-null object\n",
      "retweeted_status_id           181 non-null float64\n",
      "retweeted_status_user_id      181 non-null float64\n",
      "retweeted_status_timestamp    181 non-null object\n",
      "expanded_urls                 2297 non-null object\n",
      "rating_numerator              2356 non-null int64\n",
      "rating_denominator            2356 non-null int64\n",
      "name                          2356 non-null object\n",
      "doggo                         2356 non-null object\n",
      "floofer                       2356 non-null object\n",
      "pupper                        2356 non-null object\n",
      "puppo                         2356 non-null object\n",
      "favorite_count                2331 non-null float64\n",
      "retweet_count                 2331 non-null float64\n",
      "jpg_url                       2075 non-null object\n",
      "img_num                       2075 non-null float64\n",
      "p1                            2075 non-null object\n",
      "p1_conf                       2075 non-null float64\n",
      "p1_dog                        2075 non-null object\n",
      "p2                            2075 non-null object\n",
      "p2_conf                       2075 non-null float64\n",
      "p2_dog                        2075 non-null object\n",
      "p3                            2075 non-null object\n",
      "p3_conf                       2075 non-null float64\n",
      "p3_dog                        2075 non-null object\n",
      "dtypes: float64(10), int64(3), object(17)\n",
      "memory usage: 570.6+ KB\n"
     ]
    }
   ],
   "source": [
    "#define the columns with doggo,floofer,pupper and puppo\n",
    "final_dataframe_copy.info()"
   ]
  },
  {
   "cell_type": "markdown",
   "metadata": {},
   "source": [
    "Here are the values for \"puppo\"."
   ]
  },
  {
   "cell_type": "code",
   "execution_count": 109,
   "metadata": {},
   "outputs": [
    {
     "data": {
      "text/plain": [
       "None     2326\n",
       "puppo      30\n",
       "Name: puppo, dtype: int64"
      ]
     },
     "execution_count": 109,
     "metadata": {},
     "output_type": "execute_result"
    }
   ],
   "source": [
    "#define the values of the \"puppo\" variable\n",
    "final_dataframe_copy['puppo'].value_counts()"
   ]
  },
  {
   "cell_type": "markdown",
   "metadata": {},
   "source": [
    "#### Code\n",
    "I used the same function as I took to get the names ((https://github.com/kdow/WeRateDogs/blob/master/wrangle_act.ipynb). I create some lists with variables to get, and I ask Pandas to get the value of the name stage if it appears in the concerned variable.\n",
    "\n",
    "As I couldn't compare two values, I've kept only one value in the variable."
   ]
  },
  {
   "cell_type": "code",
   "execution_count": 110,
   "metadata": {},
   "outputs": [],
   "source": [
    "#code the new variable \"Nickname\" with \"doggo\"/\"floofer\"/\"pupper\"/\"puppo\" when there is a value in the column\n",
    "doggo = final_dataframe_copy.loc[final_dataframe_copy['doggo']==\"doggo\"]\n",
    "floofer = final_dataframe_copy.loc[final_dataframe_copy['floofer']==\"floofer\"]\n",
    "pupper = final_dataframe_copy.loc[final_dataframe_copy['pupper']==\"pupper\"]\n",
    "puppo = final_dataframe_copy.loc[final_dataframe_copy['puppo']==\"puppo\"]\n",
    "\n",
    "# Save these locations as lists\n",
    "doggo_list = doggo['tweet_id'].tolist()\n",
    "floofer_list = floofer['tweet_id'].tolist()\n",
    "pupper_list = pupper['tweet_id'].tolist()\n",
    "puppo_list = puppo['tweet_id'].tolist()\n",
    "\n",
    "for entry in doggo_list:\n",
    "    mask = final_dataframe_copy.tweet_id == entry\n",
    "    name_column = 'Nickname'\n",
    "    final_dataframe_copy.loc[mask, name_column] = final_dataframe_copy[final_dataframe_copy['tweet_id']==entry]['doggo']\n",
    "\n",
    "for entry in floofer_list:\n",
    "    mask = final_dataframe_copy.tweet_id == entry\n",
    "    name_column = 'Nickname'\n",
    "    final_dataframe_copy.loc[mask, name_column] = final_dataframe_copy[final_dataframe_copy['tweet_id']==entry]['floofer']\n",
    "\n",
    "for entry in pupper_list:\n",
    "    mask = final_dataframe_copy.tweet_id == entry\n",
    "    name_column = 'Nickname'\n",
    "    final_dataframe_copy.loc[mask, name_column] = final_dataframe_copy[final_dataframe_copy['tweet_id']==entry]['pupper']\n",
    "\n",
    "for entry in puppo_list:\n",
    "    mask = final_dataframe_copy.tweet_id == entry\n",
    "    name_column = 'Nickname'\n",
    "    final_dataframe_copy.loc[mask, name_column] = final_dataframe_copy[final_dataframe_copy['tweet_id']==entry]['puppo']"
   ]
  },
  {
   "cell_type": "markdown",
   "metadata": {},
   "source": [
    "#### Test\n",
    "\n",
    "I've checked to see if my coding did work. It means if the value existing in the variable leads to the variable name in the \"name_stage\" variable."
   ]
  },
  {
   "cell_type": "code",
   "execution_count": 111,
   "metadata": {
    "scrolled": false
   },
   "outputs": [
    {
     "data": {
      "text/html": [
       "<div>\n",
       "<style scoped>\n",
       "    .dataframe tbody tr th:only-of-type {\n",
       "        vertical-align: middle;\n",
       "    }\n",
       "\n",
       "    .dataframe tbody tr th {\n",
       "        vertical-align: top;\n",
       "    }\n",
       "\n",
       "    .dataframe thead th {\n",
       "        text-align: right;\n",
       "    }\n",
       "</style>\n",
       "<table border=\"1\" class=\"dataframe\">\n",
       "  <thead>\n",
       "    <tr style=\"text-align: right;\">\n",
       "      <th></th>\n",
       "      <th>tweet_id</th>\n",
       "      <th>in_reply_to_status_id</th>\n",
       "      <th>in_reply_to_user_id</th>\n",
       "      <th>timestamp</th>\n",
       "      <th>source</th>\n",
       "      <th>text</th>\n",
       "      <th>retweeted_status_id</th>\n",
       "      <th>retweeted_status_user_id</th>\n",
       "      <th>retweeted_status_timestamp</th>\n",
       "      <th>expanded_urls</th>\n",
       "      <th>...</th>\n",
       "      <th>p1</th>\n",
       "      <th>p1_conf</th>\n",
       "      <th>p1_dog</th>\n",
       "      <th>p2</th>\n",
       "      <th>p2_conf</th>\n",
       "      <th>p2_dog</th>\n",
       "      <th>p3</th>\n",
       "      <th>p3_conf</th>\n",
       "      <th>p3_dog</th>\n",
       "      <th>Nickname</th>\n",
       "    </tr>\n",
       "  </thead>\n",
       "  <tbody>\n",
       "    <tr>\n",
       "      <th>29</th>\n",
       "      <td>886366144734445568</td>\n",
       "      <td>NaN</td>\n",
       "      <td>NaN</td>\n",
       "      <td>2017-07-15 23:25:31 +0000</td>\n",
       "      <td>&lt;a href=\"http://twitter.com/download/iphone\" r...</td>\n",
       "      <td>This is Roscoe. Another pupper fallen victim t...</td>\n",
       "      <td>NaN</td>\n",
       "      <td>NaN</td>\n",
       "      <td>NaN</td>\n",
       "      <td>https://twitter.com/dog_rates/status/886366144...</td>\n",
       "      <td>...</td>\n",
       "      <td>French_bulldog</td>\n",
       "      <td>0.999201</td>\n",
       "      <td>True</td>\n",
       "      <td>Chihuahua</td>\n",
       "      <td>0.000361</td>\n",
       "      <td>True</td>\n",
       "      <td>Boston_bull</td>\n",
       "      <td>0.000076</td>\n",
       "      <td>True</td>\n",
       "      <td>pupper</td>\n",
       "    </tr>\n",
       "    <tr>\n",
       "      <th>49</th>\n",
       "      <td>882762694511734784</td>\n",
       "      <td>NaN</td>\n",
       "      <td>NaN</td>\n",
       "      <td>2017-07-06 00:46:41 +0000</td>\n",
       "      <td>&lt;a href=\"http://twitter.com/download/iphone\" r...</td>\n",
       "      <td>This is Gus. He's quite the cheeky pupper. Alr...</td>\n",
       "      <td>NaN</td>\n",
       "      <td>NaN</td>\n",
       "      <td>NaN</td>\n",
       "      <td>https://twitter.com/dog_rates/status/882762694...</td>\n",
       "      <td>...</td>\n",
       "      <td>Labrador_retriever</td>\n",
       "      <td>0.850050</td>\n",
       "      <td>True</td>\n",
       "      <td>Chesapeake_Bay_retriever</td>\n",
       "      <td>0.074257</td>\n",
       "      <td>True</td>\n",
       "      <td>flat-coated_retriever</td>\n",
       "      <td>0.015579</td>\n",
       "      <td>True</td>\n",
       "      <td>pupper</td>\n",
       "    </tr>\n",
       "    <tr>\n",
       "      <th>56</th>\n",
       "      <td>881536004380872706</td>\n",
       "      <td>NaN</td>\n",
       "      <td>NaN</td>\n",
       "      <td>2017-07-02 15:32:16 +0000</td>\n",
       "      <td>&lt;a href=\"http://twitter.com/download/iphone\" r...</td>\n",
       "      <td>Here is a pupper approaching maximum borkdrive...</td>\n",
       "      <td>NaN</td>\n",
       "      <td>NaN</td>\n",
       "      <td>NaN</td>\n",
       "      <td>https://twitter.com/dog_rates/status/881536004...</td>\n",
       "      <td>...</td>\n",
       "      <td>Samoyed</td>\n",
       "      <td>0.281463</td>\n",
       "      <td>True</td>\n",
       "      <td>Angora</td>\n",
       "      <td>0.272066</td>\n",
       "      <td>False</td>\n",
       "      <td>Persian_cat</td>\n",
       "      <td>0.114854</td>\n",
       "      <td>False</td>\n",
       "      <td>pupper</td>\n",
       "    </tr>\n",
       "    <tr>\n",
       "      <th>78</th>\n",
       "      <td>877611172832227328</td>\n",
       "      <td>NaN</td>\n",
       "      <td>NaN</td>\n",
       "      <td>2017-06-21 19:36:23 +0000</td>\n",
       "      <td>&lt;a href=\"http://twitter.com/download/iphone\" r...</td>\n",
       "      <td>RT @rachel2195: @dog_rates the boyfriend and h...</td>\n",
       "      <td>8.768508e+17</td>\n",
       "      <td>512804507.0</td>\n",
       "      <td>2017-06-19 17:14:49 +0000</td>\n",
       "      <td>https://twitter.com/rachel2195/status/87685077...</td>\n",
       "      <td>...</td>\n",
       "      <td>Irish_setter</td>\n",
       "      <td>0.364729</td>\n",
       "      <td>True</td>\n",
       "      <td>golden_retriever</td>\n",
       "      <td>0.202907</td>\n",
       "      <td>True</td>\n",
       "      <td>Irish_terrier</td>\n",
       "      <td>0.107473</td>\n",
       "      <td>True</td>\n",
       "      <td>pupper</td>\n",
       "    </tr>\n",
       "    <tr>\n",
       "      <th>82</th>\n",
       "      <td>876838120628539392</td>\n",
       "      <td>NaN</td>\n",
       "      <td>NaN</td>\n",
       "      <td>2017-06-19 16:24:33 +0000</td>\n",
       "      <td>&lt;a href=\"http://twitter.com/download/iphone\" r...</td>\n",
       "      <td>This is Ginger. She's having a ruff Monday. To...</td>\n",
       "      <td>NaN</td>\n",
       "      <td>NaN</td>\n",
       "      <td>NaN</td>\n",
       "      <td>https://twitter.com/dog_rates/status/876838120...</td>\n",
       "      <td>...</td>\n",
       "      <td>bloodhound</td>\n",
       "      <td>0.575751</td>\n",
       "      <td>True</td>\n",
       "      <td>redbone</td>\n",
       "      <td>0.240970</td>\n",
       "      <td>True</td>\n",
       "      <td>Tibetan_mastiff</td>\n",
       "      <td>0.088935</td>\n",
       "      <td>True</td>\n",
       "      <td>pupper</td>\n",
       "    </tr>\n",
       "  </tbody>\n",
       "</table>\n",
       "<p>5 rows × 31 columns</p>\n",
       "</div>"
      ],
      "text/plain": [
       "              tweet_id  in_reply_to_status_id  in_reply_to_user_id  \\\n",
       "29  886366144734445568                    NaN                  NaN   \n",
       "49  882762694511734784                    NaN                  NaN   \n",
       "56  881536004380872706                    NaN                  NaN   \n",
       "78  877611172832227328                    NaN                  NaN   \n",
       "82  876838120628539392                    NaN                  NaN   \n",
       "\n",
       "                    timestamp  \\\n",
       "29  2017-07-15 23:25:31 +0000   \n",
       "49  2017-07-06 00:46:41 +0000   \n",
       "56  2017-07-02 15:32:16 +0000   \n",
       "78  2017-06-21 19:36:23 +0000   \n",
       "82  2017-06-19 16:24:33 +0000   \n",
       "\n",
       "                                               source  \\\n",
       "29  <a href=\"http://twitter.com/download/iphone\" r...   \n",
       "49  <a href=\"http://twitter.com/download/iphone\" r...   \n",
       "56  <a href=\"http://twitter.com/download/iphone\" r...   \n",
       "78  <a href=\"http://twitter.com/download/iphone\" r...   \n",
       "82  <a href=\"http://twitter.com/download/iphone\" r...   \n",
       "\n",
       "                                                 text  retweeted_status_id  \\\n",
       "29  This is Roscoe. Another pupper fallen victim t...                  NaN   \n",
       "49  This is Gus. He's quite the cheeky pupper. Alr...                  NaN   \n",
       "56  Here is a pupper approaching maximum borkdrive...                  NaN   \n",
       "78  RT @rachel2195: @dog_rates the boyfriend and h...         8.768508e+17   \n",
       "82  This is Ginger. She's having a ruff Monday. To...                  NaN   \n",
       "\n",
       "    retweeted_status_user_id retweeted_status_timestamp  \\\n",
       "29                       NaN                        NaN   \n",
       "49                       NaN                        NaN   \n",
       "56                       NaN                        NaN   \n",
       "78               512804507.0  2017-06-19 17:14:49 +0000   \n",
       "82                       NaN                        NaN   \n",
       "\n",
       "                                        expanded_urls   ...     \\\n",
       "29  https://twitter.com/dog_rates/status/886366144...   ...      \n",
       "49  https://twitter.com/dog_rates/status/882762694...   ...      \n",
       "56  https://twitter.com/dog_rates/status/881536004...   ...      \n",
       "78  https://twitter.com/rachel2195/status/87685077...   ...      \n",
       "82  https://twitter.com/dog_rates/status/876838120...   ...      \n",
       "\n",
       "                    p1   p1_conf p1_dog                        p2   p2_conf  \\\n",
       "29      French_bulldog  0.999201   True                 Chihuahua  0.000361   \n",
       "49  Labrador_retriever  0.850050   True  Chesapeake_Bay_retriever  0.074257   \n",
       "56             Samoyed  0.281463   True                    Angora  0.272066   \n",
       "78        Irish_setter  0.364729   True          golden_retriever  0.202907   \n",
       "82          bloodhound  0.575751   True                   redbone  0.240970   \n",
       "\n",
       "   p2_dog                     p3   p3_conf  p3_dog Nickname  \n",
       "29   True            Boston_bull  0.000076    True   pupper  \n",
       "49   True  flat-coated_retriever  0.015579    True   pupper  \n",
       "56  False            Persian_cat  0.114854   False   pupper  \n",
       "78   True          Irish_terrier  0.107473    True   pupper  \n",
       "82   True        Tibetan_mastiff  0.088935    True   pupper  \n",
       "\n",
       "[5 rows x 31 columns]"
      ]
     },
     "execution_count": 111,
     "metadata": {},
     "output_type": "execute_result"
    }
   ],
   "source": [
    "#test if the value works when there is a \"pupper\" value in \"pupper column\"\n",
    "final_dataframe_copy[final_dataframe_copy['pupper']=='pupper'][0:5]"
   ]
  },
  {
   "cell_type": "markdown",
   "metadata": {},
   "source": [
    "#### Code\n",
    "After that, I asked Pandas to fill None Values by \"No name stage\" to compare the different name stages and the lack of nickname."
   ]
  },
  {
   "cell_type": "code",
   "execution_count": 112,
   "metadata": {
    "scrolled": false
   },
   "outputs": [],
   "source": [
    "#code to get \"No_Nickname\" instead of null values\n",
    "final_dataframe_copy['Nickname'].fillna(\"No_Nickname\",inplace=True)"
   ]
  },
  {
   "cell_type": "markdown",
   "metadata": {},
   "source": [
    "#### Test\n",
    "All the null values of \"Nickname\" have been replaced by \"No_Nickname\""
   ]
  },
  {
   "cell_type": "code",
   "execution_count": 113,
   "metadata": {},
   "outputs": [
    {
     "data": {
      "text/plain": [
       "No_Nickname    1976\n",
       "pupper          257\n",
       "doggo            83\n",
       "puppo            30\n",
       "floofer          10\n",
       "Name: Nickname, dtype: int64"
      ]
     },
     "execution_count": 113,
     "metadata": {},
     "output_type": "execute_result"
    }
   ],
   "source": [
    "#test if all the values of the \"Nickname\" column are OK\n",
    "final_dataframe_copy['Nickname'].value_counts()"
   ]
  },
  {
   "cell_type": "markdown",
   "metadata": {},
   "source": [
    "#### Code\n",
    "\n",
    "After that, I only needed to remove \"doggo\",\"floofer\",\"pupper\" and \"puppo\" columns, because I don't need them anymore."
   ]
  },
  {
   "cell_type": "code",
   "execution_count": 114,
   "metadata": {},
   "outputs": [],
   "source": [
    "#code to remove the \"doggo\",\"floofer\",\"pupper\" and \"puppo\" columns\n",
    "final_dataframe_copy.drop(columns=['doggo','floofer','pupper','puppo'],inplace=True)"
   ]
  },
  {
   "cell_type": "markdown",
   "metadata": {},
   "source": [
    "#### Test\n",
    "The \"doggo\",\"floofer\",\"pupper\" and \"puppo\" columns have been removed."
   ]
  },
  {
   "cell_type": "code",
   "execution_count": 115,
   "metadata": {},
   "outputs": [
    {
     "name": "stdout",
     "output_type": "stream",
     "text": [
      "<class 'pandas.core.frame.DataFrame'>\n",
      "Int64Index: 2356 entries, 0 to 2355\n",
      "Data columns (total 27 columns):\n",
      "tweet_id                      2356 non-null int64\n",
      "in_reply_to_status_id         78 non-null float64\n",
      "in_reply_to_user_id           78 non-null float64\n",
      "timestamp                     2356 non-null object\n",
      "source                        2356 non-null object\n",
      "text                          2356 non-null object\n",
      "retweeted_status_id           181 non-null float64\n",
      "retweeted_status_user_id      181 non-null float64\n",
      "retweeted_status_timestamp    181 non-null object\n",
      "expanded_urls                 2297 non-null object\n",
      "rating_numerator              2356 non-null int64\n",
      "rating_denominator            2356 non-null int64\n",
      "name                          2356 non-null object\n",
      "favorite_count                2331 non-null float64\n",
      "retweet_count                 2331 non-null float64\n",
      "jpg_url                       2075 non-null object\n",
      "img_num                       2075 non-null float64\n",
      "p1                            2075 non-null object\n",
      "p1_conf                       2075 non-null float64\n",
      "p1_dog                        2075 non-null object\n",
      "p2                            2075 non-null object\n",
      "p2_conf                       2075 non-null float64\n",
      "p2_dog                        2075 non-null object\n",
      "p3                            2075 non-null object\n",
      "p3_conf                       2075 non-null float64\n",
      "p3_dog                        2075 non-null object\n",
      "Nickname                      2356 non-null object\n",
      "dtypes: float64(10), int64(3), object(14)\n",
      "memory usage: 515.4+ KB\n"
     ]
    }
   ],
   "source": [
    "final_dataframe_copy.info()"
   ]
  },
  {
   "cell_type": "markdown",
   "metadata": {},
   "source": [
    "### Delete rows with retweets and reply to\n",
    "\n",
    "#### define\n",
    "\n",
    "I aimed to delete the rows with retweets and reply to. Before that, I assessed the size of the dataframe and the number of rows with retweet status information to assess the result I've made."
   ]
  },
  {
   "cell_type": "code",
   "execution_count": 116,
   "metadata": {},
   "outputs": [
    {
     "data": {
      "text/plain": [
       "2356"
      ]
     },
     "execution_count": 116,
     "metadata": {},
     "output_type": "execute_result"
    }
   ],
   "source": [
    "# define the number of rows in the full dataframe\n",
    "len(final_dataframe_copy)"
   ]
  },
  {
   "cell_type": "code",
   "execution_count": 117,
   "metadata": {},
   "outputs": [
    {
     "data": {
      "text/plain": [
       "2175"
      ]
     },
     "execution_count": 117,
     "metadata": {},
     "output_type": "execute_result"
    }
   ],
   "source": [
    "#define the number of rows in the retweeted_status_id\n",
    "final_dataframe_copy['retweeted_status_id'].isnull().sum()"
   ]
  },
  {
   "cell_type": "code",
   "execution_count": 118,
   "metadata": {},
   "outputs": [
    {
     "name": "stdout",
     "output_type": "stream",
     "text": [
      "2175\n"
     ]
    }
   ],
   "source": [
    "#define the difference between the two\n",
    "print(2356-181)"
   ]
  },
  {
   "cell_type": "markdown",
   "metadata": {},
   "source": [
    "#### Code"
   ]
  },
  {
   "cell_type": "markdown",
   "metadata": {},
   "source": [
    "A simple dataframe slicing was just enough to remove these rows."
   ]
  },
  {
   "cell_type": "code",
   "execution_count": 119,
   "metadata": {},
   "outputs": [],
   "source": [
    "#### test if I've got the right rows of retweeted_status_id\n",
    "final_dataframe_copy=final_dataframe_copy[final_dataframe_copy['retweeted_status_id'].isnull()]"
   ]
  },
  {
   "cell_type": "markdown",
   "metadata": {},
   "source": [
    "#### Test\n",
    "The \"retweeted_status_id\" rows have been effectively removed."
   ]
  },
  {
   "cell_type": "code",
   "execution_count": 120,
   "metadata": {
    "scrolled": true
   },
   "outputs": [
    {
     "data": {
      "text/plain": [
       "Series([], Name: retweeted_status_id, dtype: int64)"
      ]
     },
     "execution_count": 120,
     "metadata": {},
     "output_type": "execute_result"
    }
   ],
   "source": [
    "#### test if the rows with values in retweeted_status_id have been removed\n",
    "final_dataframe_copy['retweeted_status_id'].value_counts()"
   ]
  },
  {
   "cell_type": "markdown",
   "metadata": {},
   "source": [
    "After that, I did the same job fr \"in Reply to status\" variable:\n",
    "\n",
    "1) Size assessment\n",
    "\n",
    "2) Dataset slicing\n",
    "\n",
    "3) Result assessment"
   ]
  },
  {
   "cell_type": "markdown",
   "metadata": {},
   "source": [
    "#### Define\n",
    "After that, I assessed the size of the new dataframe, and the job has been done."
   ]
  },
  {
   "cell_type": "code",
   "execution_count": 121,
   "metadata": {},
   "outputs": [
    {
     "data": {
      "text/plain": [
       "2175"
      ]
     },
     "execution_count": 121,
     "metadata": {},
     "output_type": "execute_result"
    }
   ],
   "source": [
    "#define the number of rows in the full\n",
    "len(final_dataframe_copy)"
   ]
  },
  {
   "cell_type": "code",
   "execution_count": 122,
   "metadata": {},
   "outputs": [
    {
     "data": {
      "text/plain": [
       "2097"
      ]
     },
     "execution_count": 122,
     "metadata": {},
     "output_type": "execute_result"
    }
   ],
   "source": [
    "# define the number of rows for the variable \"in_reply_to_status_id\"\n",
    "final_dataframe_copy['in_reply_to_status_id'].isnull().sum()"
   ]
  },
  {
   "cell_type": "markdown",
   "metadata": {},
   "source": [
    "#### Code"
   ]
  },
  {
   "cell_type": "code",
   "execution_count": 124,
   "metadata": {},
   "outputs": [],
   "source": [
    "# Code to remove all the rows with values in the \"in_reply_to_status\" variable\n",
    "final_dataframe_copy=final_dataframe_copy[final_dataframe_copy['in_reply_to_status_id'].isnull()]"
   ]
  },
  {
   "cell_type": "markdown",
   "metadata": {},
   "source": [
    "#### Test"
   ]
  },
  {
   "cell_type": "code",
   "execution_count": 125,
   "metadata": {},
   "outputs": [
    {
     "data": {
      "text/plain": [
       "2097"
      ]
     },
     "execution_count": 125,
     "metadata": {},
     "output_type": "execute_result"
    }
   ],
   "source": [
    "# Test if I've got the right number of rows\n",
    "len(final_dataframe_copy)"
   ]
  },
  {
   "cell_type": "code",
   "execution_count": 126,
   "metadata": {},
   "outputs": [
    {
     "data": {
      "text/plain": [
       "Series([], Name: in_reply_to_status_id, dtype: int64)"
      ]
     },
     "execution_count": 126,
     "metadata": {},
     "output_type": "execute_result"
    }
   ],
   "source": [
    "# Test if I've got values in \"in_reply_to_status_id\"\n",
    "final_dataframe_copy['in_reply_to_status_id'].value_counts()"
   ]
  },
  {
   "cell_type": "code",
   "execution_count": 127,
   "metadata": {
    "scrolled": true
   },
   "outputs": [
    {
     "name": "stdout",
     "output_type": "stream",
     "text": [
      "<class 'pandas.core.frame.DataFrame'>\n",
      "Int64Index: 2097 entries, 0 to 2355\n",
      "Data columns (total 27 columns):\n",
      "tweet_id                      2097 non-null int64\n",
      "in_reply_to_status_id         0 non-null float64\n",
      "in_reply_to_user_id           0 non-null float64\n",
      "timestamp                     2097 non-null object\n",
      "source                        2097 non-null object\n",
      "text                          2097 non-null object\n",
      "retweeted_status_id           0 non-null float64\n",
      "retweeted_status_user_id      0 non-null float64\n",
      "retweeted_status_timestamp    0 non-null object\n",
      "expanded_urls                 2094 non-null object\n",
      "rating_numerator              2097 non-null int64\n",
      "rating_denominator            2097 non-null int64\n",
      "name                          2097 non-null object\n",
      "favorite_count                2090 non-null float64\n",
      "retweet_count                 2090 non-null float64\n",
      "jpg_url                       1971 non-null object\n",
      "img_num                       1971 non-null float64\n",
      "p1                            1971 non-null object\n",
      "p1_conf                       1971 non-null float64\n",
      "p1_dog                        1971 non-null object\n",
      "p2                            1971 non-null object\n",
      "p2_conf                       1971 non-null float64\n",
      "p2_dog                        1971 non-null object\n",
      "p3                            1971 non-null object\n",
      "p3_conf                       1971 non-null float64\n",
      "p3_dog                        1971 non-null object\n",
      "Nickname                      2097 non-null object\n",
      "dtypes: float64(10), int64(3), object(14)\n",
      "memory usage: 458.7+ KB\n"
     ]
    }
   ],
   "source": [
    "# Test if the values in \"retweeted_status_id\" and \"in_reply_to_status_id\" have been removed\n",
    "final_dataframe_copy.info()"
   ]
  },
  {
   "cell_type": "markdown",
   "metadata": {},
   "source": [
    "#### Code\n",
    "Now that the job is done, I wanted to remove the rows with \"in_reply_to\" and \"retweeted_status."
   ]
  },
  {
   "cell_type": "code",
   "execution_count": 128,
   "metadata": {},
   "outputs": [],
   "source": [
    "# Code to remove the columns related to \"in_reply_to\" and \"retweeted\"\n",
    "final_dataframe_copy.drop(['in_reply_to_status_id', 'in_reply_to_user_id','retweeted_status_id','retweeted_status_user_id','retweeted_status_timestamp'], axis=1,inplace=True)"
   ]
  },
  {
   "cell_type": "markdown",
   "metadata": {},
   "source": [
    "#### Test"
   ]
  },
  {
   "cell_type": "markdown",
   "metadata": {},
   "source": [
    "Final checking: the work has been done. \"In_reply_to\" and \"retweeted\" columns sets have effectively been removed."
   ]
  },
  {
   "cell_type": "code",
   "execution_count": 129,
   "metadata": {},
   "outputs": [
    {
     "name": "stdout",
     "output_type": "stream",
     "text": [
      "<class 'pandas.core.frame.DataFrame'>\n",
      "Int64Index: 2097 entries, 0 to 2355\n",
      "Data columns (total 22 columns):\n",
      "tweet_id              2097 non-null int64\n",
      "timestamp             2097 non-null object\n",
      "source                2097 non-null object\n",
      "text                  2097 non-null object\n",
      "expanded_urls         2094 non-null object\n",
      "rating_numerator      2097 non-null int64\n",
      "rating_denominator    2097 non-null int64\n",
      "name                  2097 non-null object\n",
      "favorite_count        2090 non-null float64\n",
      "retweet_count         2090 non-null float64\n",
      "jpg_url               1971 non-null object\n",
      "img_num               1971 non-null float64\n",
      "p1                    1971 non-null object\n",
      "p1_conf               1971 non-null float64\n",
      "p1_dog                1971 non-null object\n",
      "p2                    1971 non-null object\n",
      "p2_conf               1971 non-null float64\n",
      "p2_dog                1971 non-null object\n",
      "p3                    1971 non-null object\n",
      "p3_conf               1971 non-null float64\n",
      "p3_dog                1971 non-null object\n",
      "Nickname              2097 non-null object\n",
      "dtypes: float64(6), int64(3), object(13)\n",
      "memory usage: 376.8+ KB\n"
     ]
    }
   ],
   "source": [
    "# Test if the columns have been removed\n",
    "final_dataframe_copy.info()"
   ]
  },
  {
   "cell_type": "markdown",
   "metadata": {},
   "source": [
    "### Remove rows without retweet count info"
   ]
  },
  {
   "cell_type": "markdown",
   "metadata": {},
   "source": [
    "#### Define"
   ]
  },
  {
   "cell_type": "code",
   "execution_count": 130,
   "metadata": {},
   "outputs": [
    {
     "name": "stdout",
     "output_type": "stream",
     "text": [
      "<class 'pandas.core.frame.DataFrame'>\n",
      "Int64Index: 2097 entries, 0 to 2355\n",
      "Data columns (total 22 columns):\n",
      "tweet_id              2097 non-null int64\n",
      "timestamp             2097 non-null object\n",
      "source                2097 non-null object\n",
      "text                  2097 non-null object\n",
      "expanded_urls         2094 non-null object\n",
      "rating_numerator      2097 non-null int64\n",
      "rating_denominator    2097 non-null int64\n",
      "name                  2097 non-null object\n",
      "favorite_count        2090 non-null float64\n",
      "retweet_count         2090 non-null float64\n",
      "jpg_url               1971 non-null object\n",
      "img_num               1971 non-null float64\n",
      "p1                    1971 non-null object\n",
      "p1_conf               1971 non-null float64\n",
      "p1_dog                1971 non-null object\n",
      "p2                    1971 non-null object\n",
      "p2_conf               1971 non-null float64\n",
      "p2_dog                1971 non-null object\n",
      "p3                    1971 non-null object\n",
      "p3_conf               1971 non-null float64\n",
      "p3_dog                1971 non-null object\n",
      "Nickname              2097 non-null object\n",
      "dtypes: float64(6), int64(3), object(13)\n",
      "memory usage: 376.8+ KB\n"
     ]
    }
   ],
   "source": [
    "#define the number of missing values for \"retweet_count\"\n",
    "final_dataframe_copy.info()"
   ]
  },
  {
   "cell_type": "markdown",
   "metadata": {},
   "source": [
    "#### Code\n",
    "As I wanted to use retweet count in my analysis, I've decided to remove rows without retweet count info. The dataframe info had already been done overhead, so I just needed to slice the dataframe to get only rows with retweet count info"
   ]
  },
  {
   "cell_type": "code",
   "execution_count": 131,
   "metadata": {},
   "outputs": [],
   "source": [
    "# Code to remove the rows without \"retweet_count\" values\n",
    "final_dataframe_copy=final_dataframe_copy[final_dataframe_copy['retweet_count'].notnull()]"
   ]
  },
  {
   "cell_type": "markdown",
   "metadata": {},
   "source": [
    "#### Test\n",
    "After that, I've checked if the job had been successful. Good job."
   ]
  },
  {
   "cell_type": "code",
   "execution_count": 132,
   "metadata": {},
   "outputs": [
    {
     "name": "stdout",
     "output_type": "stream",
     "text": [
      "<class 'pandas.core.frame.DataFrame'>\n",
      "Int64Index: 2090 entries, 0 to 2355\n",
      "Data columns (total 22 columns):\n",
      "tweet_id              2090 non-null int64\n",
      "timestamp             2090 non-null object\n",
      "source                2090 non-null object\n",
      "text                  2090 non-null object\n",
      "expanded_urls         2087 non-null object\n",
      "rating_numerator      2090 non-null int64\n",
      "rating_denominator    2090 non-null int64\n",
      "name                  2090 non-null object\n",
      "favorite_count        2090 non-null float64\n",
      "retweet_count         2090 non-null float64\n",
      "jpg_url               1964 non-null object\n",
      "img_num               1964 non-null float64\n",
      "p1                    1964 non-null object\n",
      "p1_conf               1964 non-null float64\n",
      "p1_dog                1964 non-null object\n",
      "p2                    1964 non-null object\n",
      "p2_conf               1964 non-null float64\n",
      "p2_dog                1964 non-null object\n",
      "p3                    1964 non-null object\n",
      "p3_conf               1964 non-null float64\n",
      "p3_dog                1964 non-null object\n",
      "Nickname              2090 non-null object\n",
      "dtypes: float64(6), int64(3), object(13)\n",
      "memory usage: 375.5+ KB\n"
     ]
    }
   ],
   "source": [
    "#Test if I've got only the rows with retweet_count values\n",
    "final_dataframe_copy.info()"
   ]
  },
  {
   "cell_type": "markdown",
   "metadata": {},
   "source": [
    "### Change the data type of the variables Favorite Count, Retweet Count and Timestamp"
   ]
  },
  {
   "cell_type": "markdown",
   "metadata": {},
   "source": [
    "#### Define\n",
    "\"favorite_count\" and \"retweet_count\" columns are in float and we want them to be in integer.\n",
    "\n",
    "Timestamp is in string and we want it to be in datetime."
   ]
  },
  {
   "cell_type": "code",
   "execution_count": 133,
   "metadata": {},
   "outputs": [
    {
     "name": "stdout",
     "output_type": "stream",
     "text": [
      "<class 'pandas.core.frame.DataFrame'>\n",
      "Int64Index: 2090 entries, 0 to 2355\n",
      "Data columns (total 22 columns):\n",
      "tweet_id              2090 non-null int64\n",
      "timestamp             2090 non-null object\n",
      "source                2090 non-null object\n",
      "text                  2090 non-null object\n",
      "expanded_urls         2087 non-null object\n",
      "rating_numerator      2090 non-null int64\n",
      "rating_denominator    2090 non-null int64\n",
      "name                  2090 non-null object\n",
      "favorite_count        2090 non-null float64\n",
      "retweet_count         2090 non-null float64\n",
      "jpg_url               1964 non-null object\n",
      "img_num               1964 non-null float64\n",
      "p1                    1964 non-null object\n",
      "p1_conf               1964 non-null float64\n",
      "p1_dog                1964 non-null object\n",
      "p2                    1964 non-null object\n",
      "p2_conf               1964 non-null float64\n",
      "p2_dog                1964 non-null object\n",
      "p3                    1964 non-null object\n",
      "p3_conf               1964 non-null float64\n",
      "p3_dog                1964 non-null object\n",
      "Nickname              2090 non-null object\n",
      "dtypes: float64(6), int64(3), object(13)\n",
      "memory usage: 375.5+ KB\n"
     ]
    }
   ],
   "source": [
    "#define the variable types of favorite_count, retweet_count and timestamp\n",
    "final_dataframe_copy.info()"
   ]
  },
  {
   "cell_type": "markdown",
   "metadata": {},
   "source": [
    "#### Code\n",
    "I wanted to get \"favorite count\", \"retweet count\" in integer, so the shown numbers wouldn't contain decimal places. The data assessment had already been done overhead. I just changed with an as_type function."
   ]
  },
  {
   "cell_type": "code",
   "execution_count": 134,
   "metadata": {},
   "outputs": [],
   "source": [
    "#code to get the favorite_count variable in integral\n",
    "final_dataframe_copy['favorite_count']=final_dataframe_copy['favorite_count'].astype('int')"
   ]
  },
  {
   "cell_type": "code",
   "execution_count": 135,
   "metadata": {},
   "outputs": [],
   "source": [
    "#code to get the retweet_count variable in integral\n",
    "final_dataframe_copy['retweet_count']=final_dataframe_copy['retweet_count'].astype('int')"
   ]
  },
  {
   "cell_type": "markdown",
   "metadata": {},
   "source": [
    "I've also transform \"timestamp\" variable into a datetime variable."
   ]
  },
  {
   "cell_type": "code",
   "execution_count": 136,
   "metadata": {},
   "outputs": [],
   "source": [
    "#code to get the timestamp to get the timestamp variable in integral\n",
    "final_dataframe_copy['timestamp']=pd.to_datetime(final_dataframe_copy['timestamp'])"
   ]
  },
  {
   "cell_type": "markdown",
   "metadata": {},
   "source": [
    "#### Test\n",
    "Normally the \"timestamp\" variable is OK because I can use the Year function."
   ]
  },
  {
   "cell_type": "code",
   "execution_count": 137,
   "metadata": {
    "scrolled": false
   },
   "outputs": [
    {
     "data": {
      "text/plain": [
       "2016    1052\n",
       "2015     667\n",
       "2017     371\n",
       "Name: timestamp, dtype: int64"
      ]
     },
     "execution_count": 137,
     "metadata": {},
     "output_type": "execute_result"
    }
   ],
   "source": [
    "#test if the timestamp variable functions as a date\n",
    "final_dataframe_copy['timestamp'].dt.year.value_counts()"
   ]
  },
  {
   "cell_type": "markdown",
   "metadata": {},
   "source": [
    "Now I can check if the \"retweet_count\" and the \"favorite count\" are in integers. We see that it's indeed in int64.\n",
    "\n",
    "Second result assessment: The \"timestamp\" variable is indeed in datetime type."
   ]
  },
  {
   "cell_type": "code",
   "execution_count": 138,
   "metadata": {
    "scrolled": false
   },
   "outputs": [
    {
     "name": "stdout",
     "output_type": "stream",
     "text": [
      "<class 'pandas.core.frame.DataFrame'>\n",
      "Int64Index: 2090 entries, 0 to 2355\n",
      "Data columns (total 22 columns):\n",
      "tweet_id              2090 non-null int64\n",
      "timestamp             2090 non-null datetime64[ns]\n",
      "source                2090 non-null object\n",
      "text                  2090 non-null object\n",
      "expanded_urls         2087 non-null object\n",
      "rating_numerator      2090 non-null int64\n",
      "rating_denominator    2090 non-null int64\n",
      "name                  2090 non-null object\n",
      "favorite_count        2090 non-null int64\n",
      "retweet_count         2090 non-null int64\n",
      "jpg_url               1964 non-null object\n",
      "img_num               1964 non-null float64\n",
      "p1                    1964 non-null object\n",
      "p1_conf               1964 non-null float64\n",
      "p1_dog                1964 non-null object\n",
      "p2                    1964 non-null object\n",
      "p2_conf               1964 non-null float64\n",
      "p2_dog                1964 non-null object\n",
      "p3                    1964 non-null object\n",
      "p3_conf               1964 non-null float64\n",
      "p3_dog                1964 non-null object\n",
      "Nickname              2090 non-null object\n",
      "dtypes: datetime64[ns](1), float64(4), int64(5), object(12)\n",
      "memory usage: 375.5+ KB\n"
     ]
    }
   ],
   "source": [
    "# Test if retweet_count, favorie_count and timestamp variables are in the right data type\n",
    "final_dataframe_copy.info()"
   ]
  },
  {
   "cell_type": "markdown",
   "metadata": {},
   "source": [
    "### Create a better variable for rating\n",
    "\n",
    "#### Code\n",
    "I had some problems with the \"rating_numerator\" and the \"rating_denominator\" because the results might be wrong because of the denominator differences. So I had to get only one variable with \"rating_proportion\".\n",
    "\n",
    "I used the division function to get this number."
   ]
  },
  {
   "cell_type": "code",
   "execution_count": 139,
   "metadata": {},
   "outputs": [],
   "source": [
    "# Code to get the rating_proportion by dividing \"rating_numerator\" with \"rating_denominator\"\n",
    "final_dataframe_copy['rating_proportion']=final_dataframe_copy['rating_numerator']/final_dataframe_copy['rating_denominator']"
   ]
  },
  {
   "cell_type": "markdown",
   "metadata": {},
   "source": [
    "#### Test\n",
    "Then I checked if the values are correct"
   ]
  },
  {
   "cell_type": "code",
   "execution_count": 140,
   "metadata": {},
   "outputs": [
    {
     "data": {
      "text/plain": [
       "1.200000      488\n",
       "1.000000      437\n",
       "1.100000      418\n",
       "1.300000      283\n",
       "0.900000      153\n",
       "0.800000       98\n",
       "0.700000       51\n",
       "1.400000       38\n",
       "0.500000       35\n",
       "0.600000       32\n",
       "0.300000       19\n",
       "0.400000       15\n",
       "0.200000       10\n",
       "0.100000        4\n",
       "2.700000        1\n",
       "3.428571        1\n",
       "0.636364        1\n",
       "177.600000      1\n",
       "2.600000        1\n",
       "42.000000       1\n",
       "7.500000        1\n",
       "0.000000        1\n",
       "0.818182        1\n",
       "Name: rating_proportion, dtype: int64"
      ]
     },
     "execution_count": 140,
     "metadata": {},
     "output_type": "execute_result"
    }
   ],
   "source": [
    "final_dataframe_copy['rating_proportion'].value_counts()"
   ]
  },
  {
   "cell_type": "markdown",
   "metadata": {},
   "source": [
    "Some values are very difficult to interpret (\"177.6\" for example). So I checked the rating numerator and the rating denominator: it appears it's a valid result."
   ]
  },
  {
   "cell_type": "code",
   "execution_count": 141,
   "metadata": {},
   "outputs": [
    {
     "data": {
      "text/plain": [
       "1776    1\n",
       "Name: rating_numerator, dtype: int64"
      ]
     },
     "execution_count": 141,
     "metadata": {},
     "output_type": "execute_result"
    }
   ],
   "source": [
    "final_dataframe_copy[final_dataframe_copy['rating_proportion']==177.6]['rating_numerator'].value_counts()"
   ]
  },
  {
   "cell_type": "code",
   "execution_count": 142,
   "metadata": {},
   "outputs": [
    {
     "data": {
      "text/plain": [
       "10    1\n",
       "Name: rating_denominator, dtype: int64"
      ]
     },
     "execution_count": 142,
     "metadata": {},
     "output_type": "execute_result"
    }
   ],
   "source": [
    "final_dataframe_copy[final_dataframe_copy['rating_proportion']==177.6]['rating_denominator'].value_counts()"
   ]
  },
  {
   "cell_type": "markdown",
   "metadata": {},
   "source": [
    "### The source variabe: Extract URL address and anchoring text"
   ]
  },
  {
   "cell_type": "markdown",
   "metadata": {},
   "source": [
    "#### Define\n",
    "Right now, I need to extract the URL address and the anchoring text from the source variable. As we can see below, there is an HTML formatting we don't need and I can remove. In the same coding, I can separate URL addresses and anchoring text in two separate variables."
   ]
  },
  {
   "cell_type": "code",
   "execution_count": 143,
   "metadata": {
    "scrolled": true
   },
   "outputs": [
    {
     "data": {
      "text/plain": [
       "<a href=\"http://twitter.com/download/iphone\" rel=\"nofollow\">Twitter for iPhone</a>     1958\n",
       "<a href=\"http://vine.co\" rel=\"nofollow\">Vine - Make a Scene</a>                          91\n",
       "<a href=\"http://twitter.com\" rel=\"nofollow\">Twitter Web Client</a>                       31\n",
       "<a href=\"https://about.twitter.com/products/tweetdeck\" rel=\"nofollow\">TweetDeck</a>      10\n",
       "Name: source, dtype: int64"
      ]
     },
     "execution_count": 143,
     "metadata": {},
     "output_type": "execute_result"
    }
   ],
   "source": [
    "#define the valus of the \"source\" variable\n",
    "final_dataframe_copy['source'].value_counts()"
   ]
  },
  {
   "cell_type": "markdown",
   "metadata": {},
   "source": [
    "#### Code\n",
    "First, I've created a \"source_url\" variable in extracting the HTTP and the characters lowercase letter, number, dash and dot to get the right URL address."
   ]
  },
  {
   "cell_type": "code",
   "execution_count": 144,
   "metadata": {},
   "outputs": [],
   "source": [
    "#code to get the url_source variable\n",
    "final_dataframe_copy['url_source']=final_dataframe_copy['source'].str.extract('(http[a-z1-9:\\.\\/]+)')"
   ]
  },
  {
   "cell_type": "markdown",
   "metadata": {},
   "source": [
    "#### Test\n",
    "Then I've checked if the \"source_url\" were correct, and it is."
   ]
  },
  {
   "cell_type": "code",
   "execution_count": 145,
   "metadata": {
    "scrolled": true
   },
   "outputs": [
    {
     "data": {
      "text/plain": [
       "http://twitter.com/download/iphone              1958\n",
       "http://vine.co                                    91\n",
       "http://twitter.com                                31\n",
       "https://about.twitter.com/products/tweetdeck      10\n",
       "Name: url_source, dtype: int64"
      ]
     },
     "execution_count": 145,
     "metadata": {},
     "output_type": "execute_result"
    }
   ],
   "source": [
    "final_dataframe_copy['url_source'].value_counts()"
   ]
  },
  {
   "cell_type": "markdown",
   "metadata": {},
   "source": [
    "#### Code\n",
    "I did the same job in anchoring text, but I needed to get the \"</a\" characters to extract the good anchoring text. Then I've used rstrip to remove these characters."
   ]
  },
  {
   "cell_type": "code",
   "execution_count": 146,
   "metadata": {},
   "outputs": [],
   "source": [
    "final_dataframe_copy['anchoring_text_source']=final_dataframe_copy['source'].str.extract('([A-Za-z1-9 \\-]+</a>)')\n",
    "final_dataframe_copy['anchoring_text_source']=final_dataframe_copy['anchoring_text_source'].str.rstrip('\"\"</a>\"\"')"
   ]
  },
  {
   "cell_type": "markdown",
   "metadata": {},
   "source": [
    "#### Test\n",
    "The anchoring_text has been well-created. I've got only the good characters."
   ]
  },
  {
   "cell_type": "code",
   "execution_count": 147,
   "metadata": {
    "scrolled": true
   },
   "outputs": [
    {
     "data": {
      "text/plain": [
       "Twitter for iPhone     1958\n",
       "Vine - Make a Scene      91\n",
       "Twitter Web Client       31\n",
       "TweetDeck                10\n",
       "Name: anchoring_text_source, dtype: int64"
      ]
     },
     "execution_count": 147,
     "metadata": {},
     "output_type": "execute_result"
    }
   ],
   "source": [
    "final_dataframe_copy['anchoring_text_source'].value_counts()"
   ]
  },
  {
   "cell_type": "markdown",
   "metadata": {},
   "source": [
    "#### Code\n",
    "So I could remove the \"source\" variable."
   ]
  },
  {
   "cell_type": "code",
   "execution_count": 148,
   "metadata": {},
   "outputs": [],
   "source": [
    "final_dataframe_copy.drop(columns=['source'],inplace=True)"
   ]
  },
  {
   "cell_type": "markdown",
   "metadata": {},
   "source": [
    "#### Test\n",
    "After that, I needed to check if the number of rows was OK, and it is."
   ]
  },
  {
   "cell_type": "code",
   "execution_count": 149,
   "metadata": {},
   "outputs": [
    {
     "name": "stdout",
     "output_type": "stream",
     "text": [
      "<class 'pandas.core.frame.DataFrame'>\n",
      "Int64Index: 2090 entries, 0 to 2355\n",
      "Data columns (total 24 columns):\n",
      "tweet_id                 2090 non-null int64\n",
      "timestamp                2090 non-null datetime64[ns]\n",
      "text                     2090 non-null object\n",
      "expanded_urls            2087 non-null object\n",
      "rating_numerator         2090 non-null int64\n",
      "rating_denominator       2090 non-null int64\n",
      "name                     2090 non-null object\n",
      "favorite_count           2090 non-null int64\n",
      "retweet_count            2090 non-null int64\n",
      "jpg_url                  1964 non-null object\n",
      "img_num                  1964 non-null float64\n",
      "p1                       1964 non-null object\n",
      "p1_conf                  1964 non-null float64\n",
      "p1_dog                   1964 non-null object\n",
      "p2                       1964 non-null object\n",
      "p2_conf                  1964 non-null float64\n",
      "p2_dog                   1964 non-null object\n",
      "p3                       1964 non-null object\n",
      "p3_conf                  1964 non-null float64\n",
      "p3_dog                   1964 non-null object\n",
      "Nickname                 2090 non-null object\n",
      "rating_proportion        2090 non-null float64\n",
      "url_source               2090 non-null object\n",
      "anchoring_text_source    2090 non-null object\n",
      "dtypes: datetime64[ns](1), float64(5), int64(5), object(13)\n",
      "memory usage: 408.2+ KB\n"
     ]
    }
   ],
   "source": [
    "final_dataframe_copy.info()"
   ]
  },
  {
   "cell_type": "markdown",
   "metadata": {},
   "source": [
    "### Make Expanded URL usable"
   ]
  },
  {
   "cell_type": "markdown",
   "metadata": {},
   "source": [
    "#### Define\n",
    "After that, I needed to get only one Twitter URL to make it more usable. Before beginning, I would like to highlight the number of missing data (166 missing rows)."
   ]
  },
  {
   "cell_type": "code",
   "execution_count": 150,
   "metadata": {},
   "outputs": [
    {
     "name": "stdout",
     "output_type": "stream",
     "text": [
      "<class 'pandas.core.frame.DataFrame'>\n",
      "Int64Index: 2090 entries, 0 to 2355\n",
      "Data columns (total 24 columns):\n",
      "tweet_id                 2090 non-null int64\n",
      "timestamp                2090 non-null datetime64[ns]\n",
      "text                     2090 non-null object\n",
      "expanded_urls            2087 non-null object\n",
      "rating_numerator         2090 non-null int64\n",
      "rating_denominator       2090 non-null int64\n",
      "name                     2090 non-null object\n",
      "favorite_count           2090 non-null int64\n",
      "retweet_count            2090 non-null int64\n",
      "jpg_url                  1964 non-null object\n",
      "img_num                  1964 non-null float64\n",
      "p1                       1964 non-null object\n",
      "p1_conf                  1964 non-null float64\n",
      "p1_dog                   1964 non-null object\n",
      "p2                       1964 non-null object\n",
      "p2_conf                  1964 non-null float64\n",
      "p2_dog                   1964 non-null object\n",
      "p3                       1964 non-null object\n",
      "p3_conf                  1964 non-null float64\n",
      "p3_dog                   1964 non-null object\n",
      "Nickname                 2090 non-null object\n",
      "rating_proportion        2090 non-null float64\n",
      "url_source               2090 non-null object\n",
      "anchoring_text_source    2090 non-null object\n",
      "dtypes: datetime64[ns](1), float64(5), int64(5), object(13)\n",
      "memory usage: 408.2+ KB\n"
     ]
    }
   ],
   "source": [
    "final_dataframe_copy.info()"
   ]
  },
  {
   "cell_type": "code",
   "execution_count": 151,
   "metadata": {
    "scrolled": false
   },
   "outputs": [
    {
     "data": {
      "text/plain": [
       "https://vine.co/v/ea0OwvPTx9l                                                                                                                                                                                                                                                                                2\n",
       "https://twitter.com/dog_rates/status/667435689202614272/photo/1                                                                                                                                                                                                                                              1\n",
       "https://twitter.com/dog_rates/status/693109034023534592/video/1                                                                                                                                                                                                                                              1\n",
       "https://twitter.com/dog_rates/status/672975131468300288/photo/1                                                                                                                                                                                                                                              1\n",
       "https://twitter.com/dog_rates/status/670468609693655041/photo/1                                                                                                                                                                                                                                              1\n",
       "https://twitter.com/dog_rates/status/697259378236399616/photo/1                                                                                                                                                                                                                                              1\n",
       "https://twitter.com/dog_rates/status/672267570918129665/photo/1                                                                                                                                                                                                                                              1\n",
       "https://twitter.com/dog_rates/status/767754930266464257/photo/1                                                                                                                                                                                                                                              1\n",
       "https://www.gofundme.com/sick-baby-samson,https://twitter.com/dog_rates/status/830097400375152640/photo/1,https://twitter.com/dog_rates/status/830097400375152640/photo/1,https://twitter.com/dog_rates/status/830097400375152640/photo/1,https://twitter.com/dog_rates/status/830097400375152640/photo/1    1\n",
       "https://twitter.com/dog_rates/status/678764513869611008/photo/1                                                                                                                                                                                                                                              1\n",
       "https://twitter.com/dog_rates/status/718454725339934721/photo/1                                                                                                                                                                                                                                              1\n",
       "https://twitter.com/dog_rates/status/695409464418041856/photo/1                                                                                                                                                                                                                                              1\n",
       "https://twitter.com/dog_rates/status/831911600680497154/photo/1,https://twitter.com/dog_rates/status/831911600680497154/photo/1,https://twitter.com/dog_rates/status/831911600680497154/photo/1,https://twitter.com/dog_rates/status/831911600680497154/photo/1                                              1\n",
       "https://twitter.com/dog_rates/status/750429297815552001/photo/1,https://twitter.com/dog_rates/status/750429297815552001/photo/1                                                                                                                                                                              1\n",
       "https://vine.co/v/iIhEU2lVqxz                                                                                                                                                                                                                                                                                1\n",
       "https://twitter.com/dog_rates/status/703268521220972544/photo/1                                                                                                                                                                                                                                              1\n",
       "https://twitter.com/dog_rates/status/680473011644985345/photo/1                                                                                                                                                                                                                                              1\n",
       "https://twitter.com/dog_rates/status/825147591692263424/photo/1                                                                                                                                                                                                                                              1\n",
       "https://twitter.com/dog_rates/status/831309418084069378/photo/1                                                                                                                                                                                                                                              1\n",
       "https://twitter.com/dog_rates/status/668614819948453888/photo/1                                                                                                                                                                                                                                              1\n",
       "https://vine.co/v/iHl2UDEBZ95                                                                                                                                                                                                                                                                                1\n",
       "https://twitter.com/dog_rates/status/684902183876321280/photo/1                                                                                                                                                                                                                                              1\n",
       "https://twitter.com/dog_rates/status/676811746707918848/photo/1                                                                                                                                                                                                                                              1\n",
       "https://twitter.com/dog_rates/status/680440374763077632/video/1                                                                                                                                                                                                                                              1\n",
       "https://twitter.com/dog_rates/status/858843525470990336/photo/1                                                                                                                                                                                                                                              1\n",
       "https://twitter.com/dog_rates/status/821407182352777218/video/1                                                                                                                                                                                                                                              1\n",
       "https://twitter.com/dog_rates/status/685307451701334016/photo/1                                                                                                                                                                                                                                              1\n",
       "https://twitter.com/dog_rates/status/681261549936340994/photo/1                                                                                                                                                                                                                                              1\n",
       "https://twitter.com/dog_rates/status/675146535592706048/photo/1                                                                                                                                                                                                                                              1\n",
       "https://twitter.com/dog_rates/status/729854734790754305/photo/1                                                                                                                                                                                                                                              1\n",
       "                                                                                                                                                                                                                                                                                                            ..\n",
       "https://twitter.com/dog_rates/status/716802964044845056/photo/1,https://twitter.com/dog_rates/status/716802964044845056/photo/1                                                                                                                                                                              1\n",
       "https://twitter.com/dog_rates/status/891689557279858688/photo/1                                                                                                                                                                                                                                              1\n",
       "https://twitter.com/dog_rates/status/677314812125323265/photo/1,https://twitter.com/dog_rates/status/677314812125323265/photo/1                                                                                                                                                                              1\n",
       "https://twitter.com/dog_rates/status/684460069371654144/photo/1                                                                                                                                                                                                                                              1\n",
       "https://twitter.com/dog_rates/status/747204161125646336/photo/1,https://twitter.com/dog_rates/status/747204161125646336/photo/1                                                                                                                                                                              1\n",
       "https://twitter.com/dog_rates/status/673343217010679808/photo/1                                                                                                                                                                                                                                              1\n",
       "https://twitter.com/dog_rates/status/666268910803644416/photo/1                                                                                                                                                                                                                                              1\n",
       "https://twitter.com/dog_rates/status/778408200802557953/photo/1,https://twitter.com/dog_rates/status/778408200802557953/photo/1,https://twitter.com/dog_rates/status/778408200802557953/photo/1,https://twitter.com/dog_rates/status/778408200802557953/photo/1                                              1\n",
       "https://twitter.com/dog_rates/status/668932921458302977/photo/1                                                                                                                                                                                                                                              1\n",
       "https://twitter.com/dog_rates/status/687480748861947905/photo/1                                                                                                                                                                                                                                              1\n",
       "https://twitter.com/dog_rates/status/890006608113172480/photo/1,https://twitter.com/dog_rates/status/890006608113172480/photo/1                                                                                                                                                                              1\n",
       "https://twitter.com/dog_rates/status/776088319444877312/photo/1,https://twitter.com/dog_rates/status/776088319444877312/photo/1,https://twitter.com/dog_rates/status/776088319444877312/photo/1,https://twitter.com/dog_rates/status/776088319444877312/photo/1                                              1\n",
       "https://vine.co/v/iJvUqWQ166L                                                                                                                                                                                                                                                                                1\n",
       "https://www.gofundme.com/help-my-baby-sierra-get-better,https://twitter.com/dog_rates/status/873213775632977920/photo/1,https://twitter.com/dog_rates/status/873213775632977920/photo/1                                                                                                                      1\n",
       "https://twitter.com/dog_rates/status/701889187134500865/photo/1                                                                                                                                                                                                                                              1\n",
       "https://twitter.com/dog_rates/status/671504605491109889/photo/1,https://twitter.com/dog_rates/status/671504605491109889/photo/1                                                                                                                                                                              1\n",
       "https://twitter.com/dog_rates/status/667546741521195010/photo/1                                                                                                                                                                                                                                              1\n",
       "https://twitter.com/dog_rates/status/880095782870896641/photo/1                                                                                                                                                                                                                                              1\n",
       "https://twitter.com/dog_rates/status/704347321748819968/photo/1                                                                                                                                                                                                                                              1\n",
       "https://www.gofundme.com/sams-smile,https://twitter.com/dog_rates/status/810984652412424192/photo/1                                                                                                                                                                                                          1\n",
       "https://twitter.com/dog_rates/status/693280720173801472/photo/1                                                                                                                                                                                                                                              1\n",
       "https://twitter.com/dog_rates/status/684122891630342144/photo/1                                                                                                                                                                                                                                              1\n",
       "https://vine.co/v/iKuMDuYV0aZ                                                                                                                                                                                                                                                                                1\n",
       "https://twitter.com/dog_rates/status/725729321944506368/photo/1                                                                                                                                                                                                                                              1\n",
       "https://twitter.com/dog_rates/status/748568946752774144/video/1                                                                                                                                                                                                                                              1\n",
       "https://twitter.com/dog_rates/status/672970152493887488/photo/1                                                                                                                                                                                                                                              1\n",
       "https://twitter.com/deadspin/status/806570933175652352                                                                                                                                                                                                                                                       1\n",
       "https://twitter.com/dog_rates/status/720340705894408192/photo/1                                                                                                                                                                                                                                              1\n",
       "https://twitter.com/dog_rates/status/800141422401830912/photo/1,https://twitter.com/dog_rates/status/800141422401830912/photo/1,https://twitter.com/dog_rates/status/800141422401830912/photo/1                                                                                                              1\n",
       "https://twitter.com/dog_rates/status/876120275196170240/photo/1                                                                                                                                                                                                                                              1\n",
       "Name: expanded_urls, Length: 2086, dtype: int64"
      ]
     },
     "execution_count": 151,
     "metadata": {},
     "output_type": "execute_result"
    }
   ],
   "source": [
    "final_dataframe_copy['expanded_urls'].value_counts()"
   ]
  },
  {
   "cell_type": "markdown",
   "metadata": {},
   "source": [
    "#### Code\n",
    "As I only wanted the Twitter URL, I extracted the URL address using the Twitter domain name before the extraction request."
   ]
  },
  {
   "cell_type": "code",
   "execution_count": 152,
   "metadata": {},
   "outputs": [],
   "source": [
    "final_dataframe_copy['expanded_urls']=final_dataframe_copy['expanded_urls'].str.extract('(https://twitter.com/[\\_\\-0-9a-zA-Z\\/]+)')"
   ]
  },
  {
   "cell_type": "markdown",
   "metadata": {},
   "source": [
    "#### Test\n",
    "The extraction has been well-made because the Twitter expanded URLs are in the right format."
   ]
  },
  {
   "cell_type": "code",
   "execution_count": 153,
   "metadata": {
    "scrolled": false
   },
   "outputs": [
    {
     "data": {
      "text/plain": [
       "https://twitter.com/dog_rates/status/714141408463036416/photo/1    1\n",
       "https://twitter.com/dog_rates/status/695409464418041856/photo/1    1\n",
       "https://twitter.com/dog_rates/status/869772420881756160/photo/1    1\n",
       "https://twitter.com/dog_rates/status/671866342182637568/photo/1    1\n",
       "https://twitter.com/dog_rates/status/711968124745228288/photo/1    1\n",
       "https://twitter.com/dog_rates/status/743510151680958465/video/1    1\n",
       "https://twitter.com/dog_rates/status/725842289046749185/photo/1    1\n",
       "https://twitter.com/dog_rates/status/700505138482569216/photo/1    1\n",
       "https://twitter.com/dog_rates/status/677687604918272002/photo/1    1\n",
       "https://twitter.com/dog_rates/status/740711788199743490/photo/1    1\n",
       "https://twitter.com/dog_rates/status/831309418084069378/photo/1    1\n",
       "https://twitter.com/dog_rates/status/823699002998870016/photo/1    1\n",
       "https://twitter.com/dog_rates/status/835172783151792128/photo/1    1\n",
       "https://twitter.com/dog_rates/status/703268521220972544/photo/1    1\n",
       "https://twitter.com/dog_rates/status/707038192327901184/photo/1    1\n",
       "https://twitter.com/dog_rates/status/678764513869611008/photo/1    1\n",
       "https://twitter.com/dog_rates/status/852672615818899456/photo/1    1\n",
       "https://twitter.com/dog_rates/status/675111688094527488/photo/1    1\n",
       "https://twitter.com/dog_rates/status/689661964914655233/photo/1    1\n",
       "https://twitter.com/dog_rates/status/667530908589760512/photo/1    1\n",
       "https://twitter.com/dog_rates/status/671497587707535361/photo/1    1\n",
       "https://twitter.com/dog_rates/status/669015743032369152/photo/1    1\n",
       "https://twitter.com/dog_rates/status/697259378236399616/photo/1    1\n",
       "https://twitter.com/dog_rates/status/670468609693655041/photo/1    1\n",
       "https://twitter.com/dog_rates/status/819347104292290561/photo/1    1\n",
       "https://twitter.com/dog_rates/status/742528092657332225/photo/1    1\n",
       "https://twitter.com/dog_rates/status/680473011644985345/photo/1    1\n",
       "https://twitter.com/dog_rates/status/718454725339934721/photo/1    1\n",
       "https://twitter.com/dog_rates/status/825147591692263424/photo/1    1\n",
       "https://twitter.com/dog_rates/status/733828123016450049/photo/1    1\n",
       "                                                                  ..\n",
       "https://twitter.com/dog_rates/status/773308824254029826/photo/1    1\n",
       "https://twitter.com/dog_rates/status/766313316352462849/photo/1    1\n",
       "https://twitter.com/dog_rates/status/839990271299457024/photo/1    1\n",
       "https://twitter.com/dog_rates/status/668171859951755264/photo/1    1\n",
       "https://twitter.com/dog_rates/status/791406955684368384/photo/1    1\n",
       "https://twitter.com/dog_rates/status/672169685991993344/photo/1    1\n",
       "https://twitter.com/dog_rates/status/750383411068534784/photo/1    1\n",
       "https://twitter.com/dog_rates/status/752519690950500352/photo/1    1\n",
       "https://twitter.com/dog_rates/status/793601777308463104/photo/1    1\n",
       "https://twitter.com/dog_rates/status/667873844930215936/photo/1    1\n",
       "https://twitter.com/dog_rates/status/886736880519319552/photo/1    1\n",
       "https://twitter.com/dog_rates/status/694183373896572928/photo/1    1\n",
       "https://twitter.com/dog_rates/status/732375214819057664/photo/1    1\n",
       "https://twitter.com/dog_rates/status/792050063153438720/photo/1    1\n",
       "https://twitter.com/dog_rates/status/832397543355072512/photo/1    1\n",
       "https://twitter.com/dog_rates/status/689557536375177216/photo/1    1\n",
       "https://twitter.com/dog_rates/status/885167619883638784/photo/1    1\n",
       "https://twitter.com/dog_rates/status/761599872357261312/photo/1    1\n",
       "https://twitter.com/dog_rates/status/666287406224695296/photo/1    1\n",
       "https://twitter.com/dog_rates/status/674075285688614912/photo/1    1\n",
       "https://twitter.com/dog_rates/status/768596291618299904/photo/1    1\n",
       "https://twitter.com/dog_rates/status/782969140009107456/photo/1    1\n",
       "https://twitter.com/dog_rates/status/734776360183431168/photo/1    1\n",
       "https://twitter.com/dog_rates/status/680176173301628928/photo/1    1\n",
       "https://twitter.com/dog_rates/status/670780561024270336/photo/1    1\n",
       "https://twitter.com/dog_rates/status/670361874861563904/photo/1    1\n",
       "https://twitter.com/dog_rates/status/672604026190569472/photo/1    1\n",
       "https://twitter.com/dog_rates/status/795076730285391872/photo/1    1\n",
       "https://twitter.com/dog_rates/status/722974582966214656/photo/1    1\n",
       "https://twitter.com/dog_rates/status/876120275196170240/photo/1    1\n",
       "Name: expanded_urls, Length: 1993, dtype: int64"
      ]
     },
     "execution_count": 153,
     "metadata": {},
     "output_type": "execute_result"
    }
   ],
   "source": [
    "final_dataframe_copy['expanded_urls'].value_counts()"
   ]
  },
  {
   "cell_type": "markdown",
   "metadata": {},
   "source": [
    "As we can see here, we've got the same number of rows of \"expanded_urls\""
   ]
  },
  {
   "cell_type": "code",
   "execution_count": 154,
   "metadata": {},
   "outputs": [
    {
     "name": "stdout",
     "output_type": "stream",
     "text": [
      "<class 'pandas.core.frame.DataFrame'>\n",
      "Int64Index: 2090 entries, 0 to 2355\n",
      "Data columns (total 24 columns):\n",
      "tweet_id                 2090 non-null int64\n",
      "timestamp                2090 non-null datetime64[ns]\n",
      "text                     2090 non-null object\n",
      "expanded_urls            1993 non-null object\n",
      "rating_numerator         2090 non-null int64\n",
      "rating_denominator       2090 non-null int64\n",
      "name                     2090 non-null object\n",
      "favorite_count           2090 non-null int64\n",
      "retweet_count            2090 non-null int64\n",
      "jpg_url                  1964 non-null object\n",
      "img_num                  1964 non-null float64\n",
      "p1                       1964 non-null object\n",
      "p1_conf                  1964 non-null float64\n",
      "p1_dog                   1964 non-null object\n",
      "p2                       1964 non-null object\n",
      "p2_conf                  1964 non-null float64\n",
      "p2_dog                   1964 non-null object\n",
      "p3                       1964 non-null object\n",
      "p3_conf                  1964 non-null float64\n",
      "p3_dog                   1964 non-null object\n",
      "Nickname                 2090 non-null object\n",
      "rating_proportion        2090 non-null float64\n",
      "url_source               2090 non-null object\n",
      "anchoring_text_source    2090 non-null object\n",
      "dtypes: datetime64[ns](1), float64(5), int64(5), object(13)\n",
      "memory usage: 408.2+ KB\n"
     ]
    }
   ],
   "source": [
    "final_dataframe_copy.info()"
   ]
  },
  {
   "cell_type": "markdown",
   "metadata": {},
   "source": [
    "\n",
    "### Name: extract a better variable\n",
    "\n",
    "#### Define\n",
    "\n",
    "I've observed that the \"Name\" variable was only extracted by \"This is\" (like \"This is duggo\"), and it leads to mistakes with \"a\", \"an\" and so on. I want to use other extractions methods to get the name:\n",
    "\n",
    "1) 'name is'\n",
    "\n",
    "2) 'named'\n",
    "\n",
    "3) 'meet'\n",
    "\n",
    "4) 'Meet'\n",
    "\n",
    "5) 'This is'\n",
    "\n",
    "Create a function with lambda function to get this tries in order"
   ]
  },
  {
   "cell_type": "code",
   "execution_count": 155,
   "metadata": {},
   "outputs": [
    {
     "data": {
      "text/plain": [
       "None        603\n",
       "a            55\n",
       "Lucy         10\n",
       "Charlie      10\n",
       "Cooper       10\n",
       "Oliver       10\n",
       "Tucker        9\n",
       "Penny         9\n",
       "Lola          8\n",
       "Winston       8\n",
       "the           8\n",
       "Sadie         8\n",
       "Daisy         7\n",
       "Toby          7\n",
       "Koda          6\n",
       "an            6\n",
       "Bella         6\n",
       "Stanley       6\n",
       "Bo            6\n",
       "Bailey        6\n",
       "Oscar         6\n",
       "Jax           6\n",
       "Milo          5\n",
       "Chester       5\n",
       "Scout         5\n",
       "Rusty         5\n",
       "Dave          5\n",
       "Bentley       5\n",
       "Louis         5\n",
       "Buddy         5\n",
       "           ... \n",
       "Durg          1\n",
       "Happy         1\n",
       "Al            1\n",
       "Obie          1\n",
       "Strider       1\n",
       "Tess          1\n",
       "Pavlov        1\n",
       "Amy           1\n",
       "Anna          1\n",
       "Ike           1\n",
       "Sweet         1\n",
       "Champ         1\n",
       "Sully         1\n",
       "Hamrick       1\n",
       "Levi          1\n",
       "Chuq          1\n",
       "Zeus          1\n",
       "Bilbo         1\n",
       "Sweets        1\n",
       "Jareld        1\n",
       "Akumi         1\n",
       "Mo            1\n",
       "Tedrick       1\n",
       "Link          1\n",
       "General       1\n",
       "Emmie         1\n",
       "Jennifur      1\n",
       "Trigger       1\n",
       "Diogi         1\n",
       "Karl          1\n",
       "Name: name, Length: 953, dtype: int64"
      ]
     },
     "execution_count": 155,
     "metadata": {},
     "output_type": "execute_result"
    }
   ],
   "source": [
    "final_dataframe_copy['name'].value_counts()"
   ]
  },
  {
   "cell_type": "markdown",
   "metadata": {},
   "source": [
    "#### Code\n",
    "##### My function didn't work\n",
    "I've tried very hard to get these variables names, but I couldn't use more than one extraction method (the function below extracts only the last example."
   ]
  },
  {
   "cell_type": "code",
   "execution_count": 156,
   "metadata": {
    "scrolled": false
   },
   "outputs": [],
   "source": [
    "#def name(texting):\n",
    "    #if bool(re.search('name is ([A-Z]+[a-zA-Z1-9]+)', texting)):\n",
    "        #naming=re.findall('name is ([a-zA-Z1-9]+)',texting)[0]\n",
    "        #return naming\n",
    "    #elif bool(re.search('named ([A-Z]+[a-zA-Z1-9]+)', texting)):\n",
    "        #naming=re.findall('named ([A-Z]+[a-zA-Z1-9]+)',texting)[0]\n",
    "        #return naming\n",
    "    #elif bool(re.search('I present to you, ([A-Z]+[a-zA-Z1-9]+)', texting)):\n",
    "        #naming=re.findall('I present to you, ([A-Z]+[a-zA-Z1-9]+)',texting)[0]\n",
    "        #return naming\n",
    "    #elif bool(re.search('Say hello to ([A-Z]+[a-zA-Z1-9]+)', texting)):\n",
    "        #naming=re.findall('Say hello to ([A-Z]+[a-zA-Z1-9]+)',texting)[0]\n",
    "        #return naming\n",
    "    #elif bool(re.search('meet ([A-Z]+[a-zA-Z1-9]+)', texting)):\n",
    "        #naming=re.findall('meet ([A-Z]+[a-zA-Z1-9]+)',texting)[0]\n",
    "        #return naming\n",
    "    #elif bool(re.search('Meet ([A-Z]+[a-zA-Z1-9]+)', texting)):\n",
    "        #naming=re.findall('Meet ([A-Z]+[a-zA-Z1-9]+)',texting)[0]\n",
    "        #return naming\n",
    "    #elif bool(re.search('This is ([A-Z]+[a-zA-Z1-9]+)', texting)):\n",
    "        #naming=re.findall('This is ([A-Z]+[a-zA-Z1-9]+)',texting)[0]\n",
    "        #return naming\n",
    "    #else:\n",
    "        #return None\n",
    "        #print(texting)\n",
    "\n",
    "#final_dataframe_copy['right_name']=final_dataframe_copy['text'].apply(lambda x:name(x))"
   ]
  },
  {
   "cell_type": "markdown",
   "metadata": {},
   "source": [
    "So I used another project to fill up my variable (https://github.com/kdow/WeRateDogs/blob/master/wrangle_act.ipynb). Because I thought \"named\" and \"name is\" was more important than \"This is\". I also added some other values to make other things interesting."
   ]
  },
  {
   "cell_type": "code",
   "execution_count": 157,
   "metadata": {},
   "outputs": [],
   "source": [
    "name_named = final_dataframe_copy.loc[final_dataframe_copy['text'].str.contains('named',regex=True)]\n",
    "name_name_is = final_dataframe_copy.loc[final_dataframe_copy['text'].str.contains('name is')]\n",
    "name_present_to_you = final_dataframe_copy.loc[final_dataframe_copy['text'].str.contains('I present to you, ')]\n",
    "name_say_hello_to = final_dataframe_copy.loc[final_dataframe_copy['text'].str.contains('Say hello to [A-Z]+')]\n",
    "name_meet = final_dataframe_copy.loc[final_dataframe_copy['text'].str.contains('meet [A-Z]+',regex=True)]\n",
    "name_Meet = final_dataframe_copy.loc[final_dataframe_copy['text'].str.contains('Meet [A-Z]+', regex=True)]\n",
    "\n",
    "\n",
    "# Save these locations as lists\n",
    "name_named_list = name_named['text'].tolist()\n",
    "name_name_is_list = name_name_is['text'].tolist()\n",
    "name_present_to_you_list = name_present_to_you['text'].tolist()\n",
    "name_say_hello_to_list = name_say_hello_to['text'].tolist()\n",
    "name_meet_list=name_meet['text'].tolist()\n",
    "name_Meet_list=name_Meet['text'].tolist()\n",
    "\n",
    "\n",
    "\n",
    "for entry in name_named_list:\n",
    "    mask = final_dataframe_copy.text == entry\n",
    "    name_column = 'name'\n",
    "    final_dataframe_copy.loc[mask, name_column] = re.findall(r\"named\\s([A-Z]+[a-zA-Z1-9]+)\", entry)\n",
    "\n",
    "for entry in name_name_is_list:\n",
    "    mask = final_dataframe_copy.text == entry\n",
    "    name_column = 'name'\n",
    "    final_dataframe_copy.loc[mask, name_column] = re.findall(r\"name is\\s([A-Z]+[a-zA-Z1-9]+)\", entry)\n",
    "    \n",
    "for entry in name_present_to_you_list:\n",
    "    mask = final_dataframe_copy.text == entry\n",
    "    name_column = 'name'\n",
    "    final_dataframe_copy.loc[mask, name_column] = re.findall(r'I present to you, ([A-Z]+[a-zA-Z1-9]+)', entry)\n",
    "\n",
    "for entry in name_say_hello_to_list:\n",
    "    mask = final_dataframe_copy.text == entry\n",
    "    name_column = 'name'\n",
    "    final_dataframe_copy.loc[mask, name_column] = re.findall(r'Say hello to ([A-Z]+[a-zA-Z1-9]+)', entry)\n",
    "\n",
    "for entry in name_meet_list:\n",
    "    mask = final_dataframe_copy.text == entry\n",
    "    name_column = 'name'\n",
    "    final_dataframe_copy.loc[mask, name_column] = re.findall(r'meet ([A-Z]+[a-zA-Z1-9]+)', entry)\n",
    "    \n",
    "for entry in name_Meet_list:\n",
    "    mask = final_dataframe_copy.text == entry\n",
    "    name_column = 'name'\n",
    "    final_dataframe_copy.loc[mask, name_column] = re.findall(r'Meet ([A-Z]+[a-zA-Z1-9]+)', entry)\n",
    "\n",
    "    \n",
    "\n"
   ]
  },
  {
   "cell_type": "markdown",
   "metadata": {},
   "source": [
    "I used the same function after that to remove the lowercase variables"
   ]
  },
  {
   "cell_type": "code",
   "execution_count": 158,
   "metadata": {},
   "outputs": [],
   "source": [
    "not_named_to_replace = final_dataframe_copy.loc[(final_dataframe_copy['name'].str.islower())]\n",
    "not_named_to_replace_list = not_named_to_replace['text'].tolist()\n",
    "for entry in not_named_to_replace_list:\n",
    "    mask = final_dataframe_copy.text == entry\n",
    "    name_column = 'name'\n",
    "    final_dataframe_copy.loc[mask, name_column] = \"None\" "
   ]
  },
  {
   "cell_type": "markdown",
   "metadata": {},
   "source": [
    "It wasn't so great overall, but it was the best means to get the most of these names (745 names)"
   ]
  },
  {
   "cell_type": "code",
   "execution_count": 159,
   "metadata": {},
   "outputs": [
    {
     "data": {
      "text/plain": [
       "None        676\n",
       "Charlie      10\n",
       "Cooper       10\n",
       "Lucy         10\n",
       "Oliver       10\n",
       "Penny         9\n",
       "Tucker        9\n",
       "Lola          8\n",
       "Sadie         8\n",
       "Winston       8\n",
       "Daisy         7\n",
       "Toby          7\n",
       "Bo            6\n",
       "Bella         6\n",
       "Oscar         6\n",
       "Jax           6\n",
       "Bailey        6\n",
       "Koda          6\n",
       "Stanley       6\n",
       "Dave          5\n",
       "Zoey          5\n",
       "Milo          5\n",
       "Scout         5\n",
       "Leo           5\n",
       "Bentley       5\n",
       "Louis         5\n",
       "Buddy         5\n",
       "Chester       5\n",
       "Rusty         5\n",
       "Gary          4\n",
       "           ... \n",
       "Barney        1\n",
       "Moreton       1\n",
       "Kial          1\n",
       "Kaia          1\n",
       "Lupe          1\n",
       "Stewie        1\n",
       "Gilbert       1\n",
       "Craig         1\n",
       "Tobi          1\n",
       "General       1\n",
       "Shawwn        1\n",
       "Pherb         1\n",
       "Alphred       1\n",
       "Jennifur      1\n",
       "Trigger       1\n",
       "Diogi         1\n",
       "Amy           1\n",
       "Tess          1\n",
       "Strider       1\n",
       "Jarod         1\n",
       "Spark         1\n",
       "Vince         1\n",
       "Nollie        1\n",
       "Ulysses       1\n",
       "Laika         1\n",
       "Brian         1\n",
       "Ferg          1\n",
       "Taco          1\n",
       "Fizz          1\n",
       "Karl          1\n",
       "Name: name, Length: 953, dtype: int64"
      ]
     },
     "execution_count": 159,
     "metadata": {},
     "output_type": "execute_result"
    }
   ],
   "source": [
    "#### Test\n",
    "final_dataframe_copy['name'].value_counts()"
   ]
  },
  {
   "cell_type": "markdown",
   "metadata": {},
   "source": [
    "Some names couldn't be extracted automatically, and it wasn't worth extracting them manually. Some tweets have got two dog names. The try/except formula hasn't worked at all, apart from the \"This is\". I have to try it with a simple observation."
   ]
  },
  {
   "cell_type": "markdown",
   "metadata": {},
   "source": [
    "### Remove \"None\" values in Name"
   ]
  },
  {
   "cell_type": "markdown",
   "metadata": {},
   "source": [
    "#### Define"
   ]
  },
  {
   "cell_type": "code",
   "execution_count": 162,
   "metadata": {},
   "outputs": [
    {
     "data": {
      "text/plain": [
       "676"
      ]
     },
     "execution_count": 162,
     "metadata": {},
     "output_type": "execute_result"
    }
   ],
   "source": [
    "#I wanted to know how many rows were to remove\n",
    "final_dataframe_copy[final_dataframe_copy['name']==\"None\"]['name'].count()"
   ]
  },
  {
   "cell_type": "markdown",
   "metadata": {},
   "source": [
    "#### Code\n",
    "As the data assessment went, I wanted to get a None value because I don't intend to compare if the dogs have names or not (and this wouldn't be a right comparison basis)."
   ]
  },
  {
   "cell_type": "code",
   "execution_count": 163,
   "metadata": {},
   "outputs": [],
   "source": [
    "#I replaced \"None\" values with a null value\n",
    "final_dataframe_copy.replace({\"None\":None},inplace=True)"
   ]
  },
  {
   "cell_type": "markdown",
   "metadata": {},
   "source": [
    "#### Test"
   ]
  },
  {
   "cell_type": "code",
   "execution_count": 164,
   "metadata": {},
   "outputs": [
    {
     "data": {
      "text/plain": [
       "0"
      ]
     },
     "execution_count": 164,
     "metadata": {},
     "output_type": "execute_result"
    }
   ],
   "source": [
    "# There isn't any \"None\" name in the \"name\" variable\n",
    "final_dataframe_copy[final_dataframe_copy['name']==\"None\"]['name'].count()"
   ]
  },
  {
   "cell_type": "markdown",
   "metadata": {},
   "source": [
    "### Create a dataframe with image predictions"
   ]
  },
  {
   "cell_type": "markdown",
   "metadata": {},
   "source": [
    "#### Define\n",
    "As it was written in the tidiness assessment, some rows lack image predictions. So I wanted to create another dataframe to get only the rows with image predictions."
   ]
  },
  {
   "cell_type": "code",
   "execution_count": 173,
   "metadata": {},
   "outputs": [
    {
     "name": "stdout",
     "output_type": "stream",
     "text": [
      "<class 'pandas.core.frame.DataFrame'>\n",
      "Int64Index: 2090 entries, 0 to 2355\n",
      "Data columns (total 24 columns):\n",
      "tweet_id                 2090 non-null int64\n",
      "timestamp                2090 non-null datetime64[ns]\n",
      "text                     2090 non-null object\n",
      "expanded_urls            1993 non-null object\n",
      "rating_numerator         2090 non-null int64\n",
      "rating_denominator       2090 non-null int64\n",
      "name                     1414 non-null object\n",
      "favorite_count           2090 non-null int64\n",
      "retweet_count            2090 non-null int64\n",
      "jpg_url                  1964 non-null object\n",
      "img_num                  1964 non-null float64\n",
      "p1                       1964 non-null object\n",
      "p1_conf                  1964 non-null float64\n",
      "p1_dog                   1964 non-null object\n",
      "p2                       1964 non-null object\n",
      "p2_conf                  1964 non-null float64\n",
      "p2_dog                   1964 non-null object\n",
      "p3                       1964 non-null object\n",
      "p3_conf                  1964 non-null float64\n",
      "p3_dog                   1964 non-null object\n",
      "Nickname                 2090 non-null object\n",
      "rating_proportion        2090 non-null float64\n",
      "url_source               2090 non-null object\n",
      "anchoring_text_source    2090 non-null object\n",
      "dtypes: datetime64[ns](1), float64(5), int64(5), object(13)\n",
      "memory usage: 408.2+ KB\n"
     ]
    }
   ],
   "source": [
    "# define the number of values for p1/p2/p3 rows\n",
    "final_dataframe_copy.info()"
   ]
  },
  {
   "cell_type": "markdown",
   "metadata": {},
   "source": [
    "To do it, I needed to slice the dataframe and remove the rows with \"p1\" null, and the other image predictions variables have got exactly the same rows problems."
   ]
  },
  {
   "cell_type": "markdown",
   "metadata": {},
   "source": [
    "#### Code"
   ]
  },
  {
   "cell_type": "code",
   "execution_count": 170,
   "metadata": {},
   "outputs": [],
   "source": [
    "#code to create a dataframe with only image predictions data\n",
    "image_pred_dataframe=final_dataframe_copy[final_dataframe_copy['p1'].notnull()].copy()"
   ]
  },
  {
   "cell_type": "markdown",
   "metadata": {},
   "source": [
    "#### Test\n",
    "Now I can see that every variable has got the same missing data."
   ]
  },
  {
   "cell_type": "code",
   "execution_count": 171,
   "metadata": {
    "scrolled": true
   },
   "outputs": [
    {
     "name": "stdout",
     "output_type": "stream",
     "text": [
      "<class 'pandas.core.frame.DataFrame'>\n",
      "Int64Index: 1964 entries, 0 to 2355\n",
      "Data columns (total 24 columns):\n",
      "tweet_id                 1964 non-null int64\n",
      "timestamp                1964 non-null datetime64[ns]\n",
      "text                     1964 non-null object\n",
      "expanded_urls            1964 non-null object\n",
      "rating_numerator         1964 non-null int64\n",
      "rating_denominator       1964 non-null int64\n",
      "name                     1372 non-null object\n",
      "favorite_count           1964 non-null int64\n",
      "retweet_count            1964 non-null int64\n",
      "jpg_url                  1964 non-null object\n",
      "img_num                  1964 non-null float64\n",
      "p1                       1964 non-null object\n",
      "p1_conf                  1964 non-null float64\n",
      "p1_dog                   1964 non-null object\n",
      "p2                       1964 non-null object\n",
      "p2_conf                  1964 non-null float64\n",
      "p2_dog                   1964 non-null object\n",
      "p3                       1964 non-null object\n",
      "p3_conf                  1964 non-null float64\n",
      "p3_dog                   1964 non-null object\n",
      "Nickname                 1964 non-null object\n",
      "rating_proportion        1964 non-null float64\n",
      "url_source               1964 non-null object\n",
      "anchoring_text_source    1964 non-null object\n",
      "dtypes: datetime64[ns](1), float64(5), int64(5), object(13)\n",
      "memory usage: 383.6+ KB\n"
     ]
    }
   ],
   "source": [
    "#check: the data without image predictions have been removed\n",
    "image_pred_dataframe.info()"
   ]
  },
  {
   "cell_type": "markdown",
   "metadata": {},
   "source": [
    "### Get img_num into int\n",
    "\n",
    "#### Define"
   ]
  },
  {
   "cell_type": "code",
   "execution_count": 172,
   "metadata": {},
   "outputs": [
    {
     "data": {
      "text/plain": [
       "dtype('float64')"
      ]
     },
     "execution_count": 172,
     "metadata": {},
     "output_type": "execute_result"
    }
   ],
   "source": [
    "#Define the 'img_num' datatype as float\n",
    "image_pred_dataframe['img_num'].dtype"
   ]
  },
  {
   "cell_type": "markdown",
   "metadata": {},
   "source": [
    "#### Code\n",
    "Right now, I can change the variable img_num float type into the integer type."
   ]
  },
  {
   "cell_type": "code",
   "execution_count": 174,
   "metadata": {
    "scrolled": true
   },
   "outputs": [],
   "source": [
    "#change of the datatype of 'img_num'\n",
    "image_pred_dataframe['img_num']=image_pred_dataframe['img_num'].astype('int')"
   ]
  },
  {
   "cell_type": "markdown",
   "metadata": {},
   "source": [
    "#### Test\n",
    "\n",
    "I've checked if the changes have been made and Yes, \"img_num\" is in integer datatype."
   ]
  },
  {
   "cell_type": "code",
   "execution_count": 175,
   "metadata": {
    "scrolled": false
   },
   "outputs": [
    {
     "data": {
      "text/plain": [
       "dtype('int64')"
      ]
     },
     "execution_count": 175,
     "metadata": {},
     "output_type": "execute_result"
    }
   ],
   "source": [
    "# test the datatype as integer\n",
    "image_pred_dataframe['img_num'].dtype"
   ]
  },
  {
   "cell_type": "markdown",
   "metadata": {},
   "source": [
    "### P1/P2/P3"
   ]
  },
  {
   "cell_type": "markdown",
   "metadata": {},
   "source": [
    "#### Define\n",
    "The last thing to do was to get only one variable with image predictions. The P1 variable can contain No-Dog data ((as 'seat bel'). So I had to check if P1/P2/P3 contained a dog_type before getting this in a new variable"
   ]
  },
  {
   "cell_type": "code",
   "execution_count": 80,
   "metadata": {},
   "outputs": [
    {
     "data": {
      "text/plain": [
       "golden_retriever             137\n",
       "Labrador_retriever            92\n",
       "Pembroke                      88\n",
       "Chihuahua                     78\n",
       "pug                           54\n",
       "chow                          41\n",
       "Samoyed                       39\n",
       "Pomeranian                    38\n",
       "toy_poodle                    36\n",
       "malamute                      29\n",
       "cocker_spaniel                27\n",
       "French_bulldog                25\n",
       "Chesapeake_Bay_retriever      23\n",
       "seat_belt                     21\n",
       "miniature_pinscher            21\n",
       "Siberian_husky                20\n",
       "German_shepherd               20\n",
       "Eskimo_dog                    18\n",
       "Shetland_sheepdog             18\n",
       "Staffordshire_bullterrier     18\n",
       "Maltese_dog                   18\n",
       "teddy                         17\n",
       "Cardigan                      17\n",
       "Shih-Tzu                      17\n",
       "beagle                        17\n",
       "Rottweiler                    16\n",
       "Italian_greyhound             16\n",
       "kuvasz                        15\n",
       "Lakeland_terrier              15\n",
       "web_site                      14\n",
       "                            ... \n",
       "fire_engine                    1\n",
       "prayer_rug                     1\n",
       "bib                            1\n",
       "groenendael                    1\n",
       "soccer_ball                    1\n",
       "bookcase                       1\n",
       "hotdog                         1\n",
       "coral_reef                     1\n",
       "hare                           1\n",
       "panpipe                        1\n",
       "cash_machine                   1\n",
       "mortarboard                    1\n",
       "leopard                        1\n",
       "banana                         1\n",
       "king_penguin                   1\n",
       "china_cabinet                  1\n",
       "quilt                          1\n",
       "agama                          1\n",
       "clumber                        1\n",
       "three-toed_sloth               1\n",
       "laptop                         1\n",
       "black-footed_ferret            1\n",
       "bearskin                       1\n",
       "cowboy_boot                    1\n",
       "binoculars                     1\n",
       "grille                         1\n",
       "silky_terrier                  1\n",
       "zebra                          1\n",
       "gas_pump                       1\n",
       "pillow                         1\n",
       "Name: p1, Length: 373, dtype: int64"
      ]
     },
     "execution_count": 80,
     "metadata": {},
     "output_type": "execute_result"
    }
   ],
   "source": [
    "#define the errors in 'p1' values (not dog race)\n",
    "image_pred_dataframe['p1'].value_counts()"
   ]
  },
  {
   "cell_type": "code",
   "execution_count": 81,
   "metadata": {
    "scrolled": true
   },
   "outputs": [
    {
     "data": {
      "text/plain": [
       "True     1456\n",
       "False     508\n",
       "Name: p1_dog, dtype: int64"
      ]
     },
     "execution_count": 81,
     "metadata": {},
     "output_type": "execute_result"
    }
   ],
   "source": [
    "# define the type of 'p1_dog'\n",
    "image_pred_dataframe['p1_dog'].value_counts()"
   ]
  },
  {
   "cell_type": "markdown",
   "metadata": {},
   "source": [
    "#### Code\n",
    "\n",
    "To do it, I began with p3 to see if it was a dog, to make a list, and to change the value if it was a dog, then p2 and then p1 to get only the p1 value if it was a dog."
   ]
  },
  {
   "cell_type": "code",
   "execution_count": 82,
   "metadata": {
    "scrolled": true
   },
   "outputs": [
    {
     "name": "stderr",
     "output_type": "stream",
     "text": [
      "/opt/conda/lib/python3.6/site-packages/pandas/core/indexing.py:362: SettingWithCopyWarning: \n",
      "A value is trying to be set on a copy of a slice from a DataFrame.\n",
      "Try using .loc[row_indexer,col_indexer] = value instead\n",
      "\n",
      "See the caveats in the documentation: http://pandas.pydata.org/pandas-docs/stable/indexing.html#indexing-view-versus-copy\n",
      "  self.obj[key] = _infer_fill_value(value)\n",
      "/opt/conda/lib/python3.6/site-packages/pandas/core/indexing.py:543: SettingWithCopyWarning: \n",
      "A value is trying to be set on a copy of a slice from a DataFrame.\n",
      "Try using .loc[row_indexer,col_indexer] = value instead\n",
      "\n",
      "See the caveats in the documentation: http://pandas.pydata.org/pandas-docs/stable/indexing.html#indexing-view-versus-copy\n",
      "  self.obj[item] = s\n"
     ]
    }
   ],
   "source": [
    "#Code the race dogs in order I can get p1 values, then p2 values, and then p3 values if the previous p isn't a dog.\n",
    "nicknames_p3 = image_pred_dataframe.loc[image_pred_dataframe['p3_dog']==True]\n",
    "nicknames_p2 = image_pred_dataframe.loc[image_pred_dataframe['p2_dog']==True]\n",
    "nicknames_p1 = image_pred_dataframe.loc[image_pred_dataframe['p1_dog']==True]\n",
    "\n",
    "# Save these locations as lists\n",
    "nicknames_p3_list = nicknames_p3['tweet_id'].tolist()\n",
    "nicknames_p2_list = nicknames_p2['tweet_id'].tolist()\n",
    "nicknames_p1_list = nicknames_p1['tweet_id'].tolist()\n",
    "\n",
    "for entry in nicknames_p3_list:\n",
    "    mask = image_pred_dataframe.tweet_id == entry\n",
    "    name_column = 'race_dog'\n",
    "    image_pred_dataframe.loc[mask, name_column] = image_pred_dataframe[image_pred_dataframe['tweet_id']==entry]['p3']\n",
    "\n",
    "for entry in nicknames_p2_list:\n",
    "    mask = image_pred_dataframe.tweet_id == entry\n",
    "    name_column = 'race_dog'\n",
    "    image_pred_dataframe.loc[mask, name_column] = image_pred_dataframe[image_pred_dataframe['tweet_id']==entry]['p2']\n",
    "\n",
    "for entry in nicknames_p1_list:\n",
    "    mask = image_pred_dataframe.tweet_id == entry\n",
    "    name_column = 'race_dog'\n",
    "    image_pred_dataframe.loc[mask, name_column] = image_pred_dataframe[image_pred_dataframe['tweet_id']==entry]['p1']"
   ]
  },
  {
   "cell_type": "markdown",
   "metadata": {},
   "source": [
    "#### Test\n",
    "Then I've checked if the function did it well, and yes, all the p1 dog-type have been kept into the race_dog variable."
   ]
  },
  {
   "cell_type": "code",
   "execution_count": 85,
   "metadata": {
    "scrolled": true
   },
   "outputs": [
    {
     "data": {
      "text/plain": [
       "1456"
      ]
     },
     "execution_count": 85,
     "metadata": {},
     "output_type": "execute_result"
    }
   ],
   "source": [
    "image_pred_dataframe[image_pred_dataframe['race_dog']==image_pred_dataframe['p1']]['p1'].count()"
   ]
  },
  {
   "cell_type": "markdown",
   "metadata": {},
   "source": [
    "#### Code\n",
    "I've kept the image predictions variables in case other people would need it. But now that the job has been done, I need to remove the image prediction columns from the main database."
   ]
  },
  {
   "cell_type": "code",
   "execution_count": 86,
   "metadata": {},
   "outputs": [],
   "source": [
    "# code to remove the p1/p2/p3 columns set from the final_dataframe_copy\n",
    "final_dataframe_copy.drop(columns=['p1','p1_conf','p1_dog','p2','p2_conf','p2_dog','p3','p3_conf','p3_dog','img_num'],inplace=True)"
   ]
  },
  {
   "cell_type": "markdown",
   "metadata": {},
   "source": [
    "These changes have been well-made."
   ]
  },
  {
   "cell_type": "code",
   "execution_count": 87,
   "metadata": {},
   "outputs": [
    {
     "name": "stdout",
     "output_type": "stream",
     "text": [
      "<class 'pandas.core.frame.DataFrame'>\n",
      "Int64Index: 2090 entries, 0 to 2355\n",
      "Data columns (total 14 columns):\n",
      "tweet_id              2090 non-null int64\n",
      "timestamp             2090 non-null datetime64[ns]\n",
      "text                  2090 non-null object\n",
      "expanded_urls         2087 non-null object\n",
      "rating_numerator      2090 non-null int64\n",
      "rating_denominator    2090 non-null int64\n",
      "name                  1414 non-null object\n",
      "favorite_count        2090 non-null int64\n",
      "retweet_count         2090 non-null int64\n",
      "jpg_url               1964 non-null object\n",
      "Nickname              2090 non-null object\n",
      "rating_proportion     2090 non-null float64\n",
      "url_source            2090 non-null object\n",
      "expanded_urls2        1993 non-null object\n",
      "dtypes: datetime64[ns](1), float64(1), int64(5), object(7)\n",
      "memory usage: 244.9+ KB\n"
     ]
    }
   ],
   "source": [
    "final_dataframe_copy.info()"
   ]
  },
  {
   "cell_type": "markdown",
   "metadata": {},
   "source": [
    "### Saving of the dataframes"
   ]
  },
  {
   "cell_type": "markdown",
   "metadata": {},
   "source": [
    "Then I had to save my dataframe. I've also saved the two dataframes into the asked file and another image-pred file"
   ]
  },
  {
   "cell_type": "code",
   "execution_count": 88,
   "metadata": {},
   "outputs": [],
   "source": [
    "final_dataframe_copy.to_csv('twitter_archive_master.csv')\n",
    "image_pred_dataframe.to_csv('twitter_archive_pred_master.csv')"
   ]
  },
  {
   "cell_type": "markdown",
   "metadata": {},
   "source": [
    "## Data visualization"
   ]
  },
  {
   "cell_type": "markdown",
   "metadata": {},
   "source": [
    "We can see that there is a small association between favorite count and proportion rating. But there were more excessive ratings when the favorite count was lower than 10'000."
   ]
  },
  {
   "cell_type": "code",
   "execution_count": 89,
   "metadata": {
    "scrolled": false
   },
   "outputs": [
    {
     "data": {
      "text/plain": [
       "(0, 2)"
      ]
     },
     "execution_count": 89,
     "metadata": {},
     "output_type": "execute_result"
    },
    {
     "data": {
      "image/png": "[encoded data removed]",
      "text/plain": [
       "<matplotlib.figure.Figure at 0x7fca3cb28c18>"
      ]
     },
     "metadata": {
      "needs_background": "light"
     },
     "output_type": "display_data"
    }
   ],
   "source": [
    "bin_size = 50\n",
    "xbin_edges = np.arange(0.5, final_dataframe_copy['favorite_count'].max()+bin_size, bin_size)\n",
    "xbin_centers = (xbin_edges + bin_size/2)[:-1]\n",
    "\n",
    "# compute statistics in each bin\n",
    "data_xbins = pd.cut(final_dataframe_copy['favorite_count'], xbin_edges, right = False, include_lowest = True)\n",
    "y_means = final_dataframe_copy['rating_proportion'].groupby(data_xbins).mean()\n",
    "y_sems = final_dataframe_copy['rating_proportion'].groupby(data_xbins).sem()\n",
    "\n",
    "# plot the summarized data\n",
    "plt.errorbar(x = xbin_centers, y = y_means, yerr = y_sems)\n",
    "plt.xlabel('favorite_count')\n",
    "plt.ylabel('rating')\n",
    "plt.xlim(0,20000)\n",
    "plt.ylim(0,2)"
   ]
  },
  {
   "cell_type": "markdown",
   "metadata": {},
   "source": [
    "Same observation right now"
   ]
  },
  {
   "cell_type": "code",
   "execution_count": 90,
   "metadata": {
    "scrolled": true
   },
   "outputs": [
    {
     "data": {
      "text/plain": [
       "(0, 2)"
      ]
     },
     "execution_count": 90,
     "metadata": {},
     "output_type": "execute_result"
    },
    {
     "data": {
      "image/png": "[encoded data removed]",
      "text/plain": [
       "<matplotlib.figure.Figure at 0x7fca3cb004e0>"
      ]
     },
     "metadata": {
      "needs_background": "light"
     },
     "output_type": "display_data"
    }
   ],
   "source": [
    "bin_size = 50\n",
    "xbin_edges = np.arange(0.5, final_dataframe_copy['retweet_count'].max()+bin_size, bin_size)\n",
    "xbin_centers = (xbin_edges + bin_size/2)[:-1]\n",
    "\n",
    "# compute statistics in each bin\n",
    "data_xbins = pd.cut(final_dataframe_copy['retweet_count'], xbin_edges, right = False, include_lowest = True)\n",
    "y_means = final_dataframe_copy['rating_proportion'].groupby(data_xbins).mean()\n",
    "y_sems = final_dataframe_copy['rating_proportion'].groupby(data_xbins).sem()\n",
    "\n",
    "# plot the summarized data\n",
    "plt.errorbar(x = xbin_centers, y = y_means, yerr = y_sems)\n",
    "plt.xlabel('retweet_count')\n",
    "plt.ylabel('rating')\n",
    "plt.xlim(0,8000)\n",
    "plt.ylim(0,2)"
   ]
  },
  {
   "cell_type": "markdown",
   "metadata": {},
   "source": [
    "The dog races the most appreciate might be the clumber, the Bouvier des Flandres and Pomeranian if we refer to the rating in WeRateDogs. \n",
    "\n",
    "The dog races the least appreciate might be the Japanese Spaniel, the soft coated wheaten terrier, and the Scotch terrier if we refer to the rating of WeRateDogs."
   ]
  },
  {
   "cell_type": "code",
   "execution_count": 91,
   "metadata": {
    "scrolled": false
   },
   "outputs": [
    {
     "data": {
      "text/plain": [
       "race_dog\n",
       "clumber                        2.700000\n",
       "Bouvier_des_Flandres           1.300000\n",
       "Pomeranian                     1.253659\n",
       "Saluki                         1.250000\n",
       "briard                         1.233333\n",
       "Tibetan_mastiff                1.225000\n",
       "Border_terrier                 1.214286\n",
       "standard_schnauzer             1.200000\n",
       "silky_terrier                  1.200000\n",
       "Gordon_setter                  1.175000\n",
       "Irish_setter                   1.175000\n",
       "Samoyed                        1.173171\n",
       "golden_retriever               1.167607\n",
       "kuvasz                         1.152941\n",
       "Australian_terrier             1.150000\n",
       "wire-haired_fox_terrier        1.150000\n",
       "Great_Pyrenees                 1.146667\n",
       "Pembroke                       1.142553\n",
       "chow                           1.141667\n",
       "Eskimo_dog                     1.140909\n",
       "cocker_spaniel                 1.133333\n",
       "Doberman                       1.133333\n",
       "Norfolk_terrier                1.133333\n",
       "Leonberg                       1.133333\n",
       "Irish_water_spaniel            1.133333\n",
       "Greater_Swiss_Mountain_dog     1.133333\n",
       "kelpie                         1.130769\n",
       "Bernese_mountain_dog           1.127273\n",
       "Siberian_husky                 1.125000\n",
       "French_bulldog                 1.116667\n",
       "                                 ...   \n",
       "groenendael                    1.000000\n",
       "Brabancon_griffon              1.000000\n",
       "papillon                       1.000000\n",
       "borzoi                         1.000000\n",
       "Irish_terrier                  1.000000\n",
       "Italian_greyhound              1.000000\n",
       "miniature_poodle               0.987500\n",
       "English_setter                 0.987500\n",
       "Saint_Bernard                  0.985714\n",
       "Newfoundland                   0.985714\n",
       "Mexican_hairless               0.985714\n",
       "Airedale                       0.983333\n",
       "Great_Dane                     0.981818\n",
       "Rhodesian_ridgeback            0.975000\n",
       "Scottish_deerhound             0.975000\n",
       "redbone                        0.966667\n",
       "Afghan_hound                   0.966667\n",
       "Norwich_terrier                0.960000\n",
       "miniature_schnauzer            0.960000\n",
       "Dandie_Dinmont                 0.957143\n",
       "Maltese_dog                    0.952632\n",
       "Welsh_springer_spaniel         0.950000\n",
       "Boston_bull                    0.941667\n",
       "dalmatian                      0.933333\n",
       "Tibetan_terrier                0.925000\n",
       "Ibizan_hound                   0.925000\n",
       "Walker_hound                   0.900000\n",
       "Scotch_terrier                 0.900000\n",
       "soft-coated_wheaten_terrier    0.850000\n",
       "Japanese_spaniel               0.500000\n",
       "Name: rating_proportion, Length: 113, dtype: float64"
      ]
     },
     "execution_count": 91,
     "metadata": {},
     "output_type": "execute_result"
    }
   ],
   "source": [
    "image_pred_dataframe.groupby('race_dog')['rating_proportion'].mean().sort_values(ascending=False)"
   ]
  },
  {
   "cell_type": "markdown",
   "metadata": {},
   "source": [
    "As the other mentioned dog races are in size 1, I would say that the \"Pomeranian\" is the dog race the most appreciate and \"soft-coated_wheaten_terrier\" the least appreciated."
   ]
  },
  {
   "cell_type": "code",
   "execution_count": 92,
   "metadata": {},
   "outputs": [
    {
     "data": {
      "text/plain": [
       "41"
      ]
     },
     "execution_count": 92,
     "metadata": {},
     "output_type": "execute_result"
    }
   ],
   "source": [
    "len(image_pred_dataframe[image_pred_dataframe['race_dog']==\"Pomeranian\"])"
   ]
  },
  {
   "cell_type": "code",
   "execution_count": 93,
   "metadata": {},
   "outputs": [
    {
     "data": {
      "text/plain": [
       "14"
      ]
     },
     "execution_count": 93,
     "metadata": {},
     "output_type": "execute_result"
    }
   ],
   "source": [
    "len(image_pred_dataframe[image_pred_dataframe['race_dog']==\"soft-coated_wheaten_terrier\"])"
   ]
  },
  {
   "cell_type": "markdown",
   "metadata": {},
   "source": [
    "Interesting thing, \"puppo\" nickname was 0.12 better than \"pupper\"."
   ]
  },
  {
   "cell_type": "code",
   "execution_count": 94,
   "metadata": {
    "scrolled": true
   },
   "outputs": [
    {
     "data": {
      "text/plain": [
       "Nickname\n",
       "pupper         1.081739\n",
       "No_Nickname    1.179421\n",
       "floofer        1.180000\n",
       "doggo          1.183099\n",
       "puppo          1.204167\n",
       "Name: rating_proportion, dtype: float64"
      ]
     },
     "execution_count": 94,
     "metadata": {},
     "output_type": "execute_result"
    }
   ],
   "source": [
    "final_dataframe_copy.groupby('Nickname')['rating_proportion'].mean().sort_values(ascending=True)"
   ]
  },
  {
   "cell_type": "markdown",
   "metadata": {},
   "source": [
    "As we see it on the bar chart, there isn't that much difference."
   ]
  },
  {
   "cell_type": "code",
   "execution_count": 96,
   "metadata": {
    "scrolled": false
   },
   "outputs": [
    {
     "data": {
      "text/plain": [
       "<matplotlib.axes._subplots.AxesSubplot at 0x7fca3a8ca550>"
      ]
     },
     "execution_count": 96,
     "metadata": {},
     "output_type": "execute_result"
    },
    {
     "data": {
      "image/png": "[encoded data removed]",
      "text/plain": [
       "<matplotlib.figure.Figure at 0x7fca3a8d1b38>"
      ]
     },
     "metadata": {
      "needs_background": "light"
     },
     "output_type": "display_data"
    }
   ],
   "source": [
    "order=['pupper','No_Nickname','floofer','doggo','puppo']\n",
    "sb.barplot(data=final_dataframe_copy,x=\"Nickname\",y=\"rating_proportion\",color='blue',order=order)"
   ]
  },
  {
   "cell_type": "markdown",
   "metadata": {},
   "source": [
    "But there is a much bigger difference for the favorite count (more than 11'000 favorites/tweet between \"pupper\" and \"puppo\"."
   ]
  },
  {
   "cell_type": "code",
   "execution_count": 228,
   "metadata": {
    "scrolled": true
   },
   "outputs": [
    {
     "data": {
      "text/plain": [
       "Nickname\n",
       "pupper          6374.580392\n",
       "No Nickname     7310.292434\n",
       "floofer        10802.400000\n",
       "doggo          15764.900000\n",
       "puppo          17772.200000\n",
       "Name: favorite_count, dtype: float64"
      ]
     },
     "execution_count": 228,
     "metadata": {},
     "output_type": "execute_result"
    }
   ],
   "source": [
    "final_dataframe_copy.groupby('Nickname')['favorite_count'].mean().sort_values(ascending=True)"
   ]
  },
  {
   "cell_type": "code",
   "execution_count": 97,
   "metadata": {
    "scrolled": true
   },
   "outputs": [
    {
     "data": {
      "text/plain": [
       "<matplotlib.axes._subplots.AxesSubplot at 0x7fca3a817710>"
      ]
     },
     "execution_count": 97,
     "metadata": {},
     "output_type": "execute_result"
    },
    {
     "data": {
      "image/png": "[encoded data removed]",
      "text/plain": [
       "<matplotlib.figure.Figure at 0x7fca3a9680b8>"
      ]
     },
     "metadata": {
      "needs_background": "light"
     },
     "output_type": "display_data"
    }
   ],
   "source": [
    "order=['pupper','No_Nickname','floofer','doggo','puppo']\n",
    "sb.barplot(data=final_dataframe_copy,x=\"Nickname\",y=\"favorite_count\",color='blue',order=order)"
   ]
  },
  {
   "cell_type": "markdown",
   "metadata": {},
   "source": [
    "For the retweet count also, \"puppo\" nickname is much more appreciated than \"puppo\" (more than 3'800 retweet/tweet, nearly three times)."
   ]
  },
  {
   "cell_type": "code",
   "execution_count": 98,
   "metadata": {
    "scrolled": false
   },
   "outputs": [
    {
     "data": {
      "text/plain": [
       "Nickname\n",
       "pupper         2292.060870\n",
       "No_Nickname    2384.966382\n",
       "floofer        3631.000000\n",
       "doggo          6116.633803\n",
       "puppo          6484.166667\n",
       "Name: retweet_count, dtype: float64"
      ]
     },
     "execution_count": 98,
     "metadata": {},
     "output_type": "execute_result"
    }
   ],
   "source": [
    "final_dataframe_copy.groupby('Nickname')['retweet_count'].mean().sort_values(ascending=True)"
   ]
  },
  {
   "cell_type": "markdown",
   "metadata": {},
   "source": [
    "And this is also clear in the bar plots."
   ]
  },
  {
   "cell_type": "code",
   "execution_count": 99,
   "metadata": {},
   "outputs": [
    {
     "data": {
      "text/plain": [
       "<matplotlib.axes._subplots.AxesSubplot at 0x7fca3a786f98>"
      ]
     },
     "execution_count": 99,
     "metadata": {},
     "output_type": "execute_result"
    },
    {
     "data": {
      "image/png": "[encoded data removed]",
      "text/plain": [
       "<matplotlib.figure.Figure at 0x7fca3a7dd588>"
      ]
     },
     "metadata": {
      "needs_background": "light"
     },
     "output_type": "display_data"
    }
   ],
   "source": [
    "order=['pupper','No_Nickname','floofer','doggo','puppo']\n",
    "sb.barplot(data=final_dataframe_copy,x=\"Nickname\",y=\"retweet_count\",color='blue',order=order)"
   ]
  },
  {
   "cell_type": "code",
   "execution_count": 91,
   "metadata": {
    "scrolled": false
   },
   "outputs": [
    {
     "data": {
      "text/plain": [
       "timestamp\n",
       "0    1.552354\n",
       "1    1.072436\n",
       "2    1.047137\n",
       "3    1.094178\n",
       "4    1.077712\n",
       "5    1.064925\n",
       "6    1.202985\n",
       "Name: rating_proportion, dtype: float64"
      ]
     },
     "execution_count": 91,
     "metadata": {},
     "output_type": "execute_result"
    }
   ],
   "source": [
    "final_dataframe_copy.groupby(final_dataframe_copy.timestamp.dt.dayofweek)['rating_proportion'].mean()"
   ]
  },
  {
   "cell_type": "code",
   "execution_count": 92,
   "metadata": {
    "scrolled": false
   },
   "outputs": [
    {
     "data": {
      "text/plain": [
       "([<matplotlib.axis.XTick at 0x7f7058f2fef0>,\n",
       "  <matplotlib.axis.XTick at 0x7f7058f2fa20>,\n",
       "  <matplotlib.axis.XTick at 0x7f7058f9e358>,\n",
       "  <matplotlib.axis.XTick at 0x7f7058ee6c88>,\n",
       "  <matplotlib.axis.XTick at 0x7f7058eed320>,\n",
       "  <matplotlib.axis.XTick at 0x7f7058eed9b0>,\n",
       "  <matplotlib.axis.XTick at 0x7f7058ef2080>],\n",
       " <a list of 7 Text xticklabel objects>)"
      ]
     },
     "execution_count": 92,
     "metadata": {},
     "output_type": "execute_result"
    },
    {
     "data": {
      "image/png": "[encoded data removed]",
      "text/plain": [
       "<matplotlib.figure.Figure at 0x7f7058fa9cc0>"
      ]
     },
     "metadata": {
      "needs_background": "light"
     },
     "output_type": "display_data"
    }
   ],
   "source": [
    "sb.barplot(x=final_dataframe_copy.timestamp.dt.dayofweek,y=final_dataframe_copy[\"rating_proportion\"],color='blue')\n",
    "plt.xticks((0,1,2,3,4,5,6), ('Monday', 'Tuesday', 'Wednesday', 'Thursday','Friday','Saturday','Sunday'))"
   ]
  },
  {
   "cell_type": "markdown",
   "metadata": {},
   "source": [
    "The differences aren't that big if we take the day of the week."
   ]
  },
  {
   "cell_type": "code",
   "execution_count": 100,
   "metadata": {
    "scrolled": true
   },
   "outputs": [
    {
     "data": {
      "text/plain": [
       "timestamp\n",
       "0    8101.022727\n",
       "1    8569.240385\n",
       "2    9411.737013\n",
       "3    7716.917808\n",
       "4    8253.448276\n",
       "5    8781.850746\n",
       "6    8304.839552\n",
       "Name: favorite_count, dtype: float64"
      ]
     },
     "execution_count": 100,
     "metadata": {},
     "output_type": "execute_result"
    }
   ],
   "source": [
    "final_dataframe_copy.groupby(final_dataframe_copy.timestamp.dt.dayofweek)['favorite_count'].mean()"
   ]
  },
  {
   "cell_type": "markdown",
   "metadata": {},
   "source": [
    "Thursday seems slightly less interesting to get favorites, and Wednesday seems slightly more interesting. But it hasn't any confidence interval."
   ]
  },
  {
   "cell_type": "code",
   "execution_count": 120,
   "metadata": {},
   "outputs": [
    {
     "data": {
      "text/plain": [
       "([<matplotlib.axis.XTick at 0x7fca3a39d470>,\n",
       "  <matplotlib.axis.XTick at 0x7fca3a4d1588>,\n",
       "  <matplotlib.axis.XTick at 0x7fca3a2b3470>,\n",
       "  <matplotlib.axis.XTick at 0x7fca3a2986a0>,\n",
       "  <matplotlib.axis.XTick at 0x7fca3a298cf8>,\n",
       "  <matplotlib.axis.XTick at 0x7fca3a29e3c8>,\n",
       "  <matplotlib.axis.XTick at 0x7fca3a29ea58>],\n",
       " <a list of 7 Text xticklabel objects>)"
      ]
     },
     "execution_count": 120,
     "metadata": {},
     "output_type": "execute_result"
    },
    {
     "data": {
      "image/png": "[encoded data removed]",
      "text/plain": [
       "<matplotlib.figure.Figure at 0x7fca3a3029b0>"
      ]
     },
     "metadata": {
      "needs_background": "light"
     },
     "output_type": "display_data"
    }
   ],
   "source": [
    "sb.barplot(x=final_dataframe_copy.timestamp.dt.dayofweek,y=final_dataframe_copy[\"favorite_count\"],color='blue')\n",
    "plt.xticks((0,1,2,3,4,5,6), ('Monday', 'Tuesday', 'Wednesday', 'Thursday','Friday','Saturday','Sunday'))"
   ]
  },
  {
   "cell_type": "markdown",
   "metadata": {},
   "source": [
    "In the means and the bar plot, there isn't any difference of retweet count by day of the week, either."
   ]
  },
  {
   "cell_type": "code",
   "execution_count": 103,
   "metadata": {},
   "outputs": [
    {
     "data": {
      "text/plain": [
       "timestamp\n",
       "0    2444.659091\n",
       "1    2488.964744\n",
       "2    2928.259740\n",
       "3    2289.270548\n",
       "4    2565.006897\n",
       "5    2743.701493\n",
       "6    2434.287313\n",
       "Name: retweet_count, dtype: float64"
      ]
     },
     "execution_count": 103,
     "metadata": {},
     "output_type": "execute_result"
    }
   ],
   "source": [
    "final_dataframe_copy.groupby(final_dataframe_copy.timestamp.dt.dayofweek)['retweet_count'].mean()"
   ]
  },
  {
   "cell_type": "code",
   "execution_count": 104,
   "metadata": {},
   "outputs": [
    {
     "data": {
      "text/plain": [
       "([<matplotlib.axis.XTick at 0x7fca3a696eb8>,\n",
       "  <matplotlib.axis.XTick at 0x7fca3a6969e8>,\n",
       "  <matplotlib.axis.XTick at 0x7fca3a6843c8>,\n",
       "  <matplotlib.axis.XTick at 0x7fca3a64dc50>,\n",
       "  <matplotlib.axis.XTick at 0x7fca3a6552e8>,\n",
       "  <matplotlib.axis.XTick at 0x7fca3a655978>,\n",
       "  <matplotlib.axis.XTick at 0x7fca3a65b048>],\n",
       " <a list of 7 Text xticklabel objects>)"
      ]
     },
     "execution_count": 104,
     "metadata": {},
     "output_type": "execute_result"
    },
    {
     "data": {
      "image/png": "[encoded data removed]",
      "text/plain": [
       "<matplotlib.figure.Figure at 0x7fca3a747e10>"
      ]
     },
     "metadata": {
      "needs_background": "light"
     },
     "output_type": "display_data"
    }
   ],
   "source": [
    "sb.barplot(x=final_dataframe_copy.timestamp.dt.dayofweek,y=final_dataframe_copy[\"retweet_count\"],color='blue')\n",
    "plt.xticks((0,1,2,3,4,5,6), ('Monday', 'Tuesday', 'Wednesday', 'Thursday','Friday','Saturday','Sunday'))"
   ]
  },
  {
   "cell_type": "code",
   "execution_count": 105,
   "metadata": {},
   "outputs": [
    {
     "data": {
      "text/plain": [
       "timestamp\n",
       "1     1.077922\n",
       "2     1.085106\n",
       "3     1.101099\n",
       "4     1.125490\n",
       "5     1.168627\n",
       "6     1.114001\n",
       "7     2.358219\n",
       "8     1.103175\n",
       "9     1.147059\n",
       "10    1.263889\n",
       "11    1.056571\n",
       "12    1.000300\n",
       "Name: rating_proportion, dtype: float64"
      ]
     },
     "execution_count": 105,
     "metadata": {},
     "output_type": "execute_result"
    }
   ],
   "source": [
    "final_dataframe_copy.groupby(final_dataframe_copy.timestamp.dt.month)['rating_proportion'].mean()"
   ]
  },
  {
   "cell_type": "code",
   "execution_count": 116,
   "metadata": {},
   "outputs": [
    {
     "data": {
      "text/plain": [
       "([<matplotlib.axis.XTick at 0x7fca3a4d7668>,\n",
       "  <matplotlib.axis.XTick at 0x7fca3a3f6278>,\n",
       "  <matplotlib.axis.XTick at 0x7fca3a413518>,\n",
       "  <matplotlib.axis.XTick at 0x7fca3a368240>,\n",
       "  <matplotlib.axis.XTick at 0x7fca3a368898>,\n",
       "  <matplotlib.axis.XTick at 0x7fca3a368f28>,\n",
       "  <matplotlib.axis.XTick at 0x7fca3a36f5f8>,\n",
       "  <matplotlib.axis.XTick at 0x7fca3a36fc88>,\n",
       "  <matplotlib.axis.XTick at 0x7fca3a375358>,\n",
       "  <matplotlib.axis.XTick at 0x7fca3a3759e8>,\n",
       "  <matplotlib.axis.XTick at 0x7fca3a37b0b8>,\n",
       "  <matplotlib.axis.XTick at 0x7fca3a37b748>],\n",
       " <a list of 12 Text xticklabel objects>)"
      ]
     },
     "execution_count": 116,
     "metadata": {},
     "output_type": "execute_result"
    },
    {
     "data": {
      "image/png": "[encoded data removed]",
      "text/plain": [
       "<matplotlib.figure.Figure at 0x7fca3a968be0>"
      ]
     },
     "metadata": {
      "needs_background": "light"
     },
     "output_type": "display_data"
    }
   ],
   "source": [
    "sb.barplot(x=final_dataframe_copy.timestamp.dt.month,y=final_dataframe_copy[\"rating_proportion\"],color='blue')\n",
    "plt.xticks([0,1,2,3,4,5,6,7,8,9,10,11],['January','February','March','April','May','June','July','August','September','October','November','December'],rotation=30)"
   ]
  },
  {
   "cell_type": "markdown",
   "metadata": {},
   "source": [
    "There are many more favorites by a tweet from May to July."
   ]
  },
  {
   "cell_type": "code",
   "execution_count": 108,
   "metadata": {},
   "outputs": [
    {
     "data": {
      "text/plain": [
       "timestamp\n",
       "1      7752.996032\n",
       "2      8429.101064\n",
       "3      8276.456044\n",
       "4     11535.931373\n",
       "5     15284.931373\n",
       "6     15661.978102\n",
       "7     15293.801370\n",
       "8     10263.174603\n",
       "9     10202.632353\n",
       "10    12924.500000\n",
       "11     3092.711429\n",
       "12     4994.448598\n",
       "Name: favorite_count, dtype: float64"
      ]
     },
     "execution_count": 108,
     "metadata": {},
     "output_type": "execute_result"
    }
   ],
   "source": [
    "final_dataframe_copy.groupby(final_dataframe_copy.timestamp.dt.month)['favorite_count'].mean()"
   ]
  },
  {
   "cell_type": "code",
   "execution_count": 117,
   "metadata": {},
   "outputs": [
    {
     "data": {
      "text/plain": [
       "([<matplotlib.axis.XTick at 0x7fca3a38eba8>,\n",
       "  <matplotlib.axis.XTick at 0x7fca3a37bcf8>,\n",
       "  <matplotlib.axis.XTick at 0x7fca3a32a550>,\n",
       "  <matplotlib.axis.XTick at 0x7fca3a302e48>,\n",
       "  <matplotlib.axis.XTick at 0x7fca3a3084e0>,\n",
       "  <matplotlib.axis.XTick at 0x7fca3a308b70>,\n",
       "  <matplotlib.axis.XTick at 0x7fca3a30d240>,\n",
       "  <matplotlib.axis.XTick at 0x7fca3a30d8d0>,\n",
       "  <matplotlib.axis.XTick at 0x7fca3a30df60>,\n",
       "  <matplotlib.axis.XTick at 0x7fca3a313630>,\n",
       "  <matplotlib.axis.XTick at 0x7fca3a313cc0>,\n",
       "  <matplotlib.axis.XTick at 0x7fca3a31a390>],\n",
       " <a list of 12 Text xticklabel objects>)"
      ]
     },
     "execution_count": 117,
     "metadata": {},
     "output_type": "execute_result"
    },
    {
     "data": {
      "image/png": "[encoded data removed]",
      "text/plain": [
       "<matplotlib.figure.Figure at 0x7fca3aa2d4e0>"
      ]
     },
     "metadata": {
      "needs_background": "light"
     },
     "output_type": "display_data"
    }
   ],
   "source": [
    "sb.barplot(x=final_dataframe_copy.timestamp.dt.month,y=final_dataframe_copy[\"favorite_count\"],color='blue')\n",
    "plt.xticks([0,1,2,3,4,5,6,7,8,9,10,11],['January','February','March','April','May','June','July','August','September','October','November','December'],rotation=30)"
   ]
  },
  {
   "cell_type": "code",
   "execution_count": 110,
   "metadata": {},
   "outputs": [
    {
     "data": {
      "text/plain": [
       "timestamp\n",
       "1     2603.083333\n",
       "2     2234.122340\n",
       "3     2318.692308\n",
       "4     2995.774510\n",
       "5     4135.490196\n",
       "6     4605.343066\n",
       "7     3895.342466\n",
       "8     3332.619048\n",
       "9     3195.882353\n",
       "10    4177.013889\n",
       "11    1080.280000\n",
       "12    1887.495327\n",
       "Name: retweet_count, dtype: float64"
      ]
     },
     "execution_count": 110,
     "metadata": {},
     "output_type": "execute_result"
    }
   ],
   "source": [
    "final_dataframe_copy.groupby(final_dataframe_copy.timestamp.dt.month)['retweet_count'].mean()"
   ]
  },
  {
   "cell_type": "code",
   "execution_count": 121,
   "metadata": {},
   "outputs": [
    {
     "data": {
      "text/plain": [
       "([<matplotlib.axis.XTick at 0x7fca3a2cd5f8>,\n",
       "  <matplotlib.axis.XTick at 0x7fca3a23f8d0>,\n",
       "  <matplotlib.axis.XTick at 0x7fca3a24a518>,\n",
       "  <matplotlib.axis.XTick at 0x7fca3a1a4ac8>,\n",
       "  <matplotlib.axis.XTick at 0x7fca3a1ab160>,\n",
       "  <matplotlib.axis.XTick at 0x7fca3a1ab7f0>,\n",
       "  <matplotlib.axis.XTick at 0x7fca3a1abe80>,\n",
       "  <matplotlib.axis.XTick at 0x7fca3a1b2550>,\n",
       "  <matplotlib.axis.XTick at 0x7fca3a1b2be0>,\n",
       "  <matplotlib.axis.XTick at 0x7fca3a1b72b0>,\n",
       "  <matplotlib.axis.XTick at 0x7fca3a1b7940>,\n",
       "  <matplotlib.axis.XTick at 0x7fca3a1b7fd0>],\n",
       " <a list of 12 Text xticklabel objects>)"
      ]
     },
     "execution_count": 121,
     "metadata": {},
     "output_type": "execute_result"
    },
    {
     "data": {
      "image/png": "[encoded data removed]",
      "text/plain": [
       "<matplotlib.figure.Figure at 0x7fca3a31acf8>"
      ]
     },
     "metadata": {
      "needs_background": "light"
     },
     "output_type": "display_data"
    }
   ],
   "source": [
    "sb.barplot(x=final_dataframe_copy.timestamp.dt.month,y=final_dataframe_copy[\"retweet_count\"],color='blue')\n",
    "plt.xticks([0,1,2,3,4,5,6,7,8,9,10,11],['January','February','March','April','May','June','July','August','September','October','November','December'],rotation=30)"
   ]
  },
  {
   "cell_type": "code",
   "execution_count": null,
   "metadata": {},
   "outputs": [],
   "source": []
  }
 ],
 "metadata": {
  "kernelspec": {
   "display_name": "Python 3",
   "language": "python",
   "name": "python3"
  },
  "language_info": {
   "codemirror_mode": {
    "name": "ipython",
    "version": 3
   },
   "file_extension": ".py",
   "mimetype": "text/x-python",
   "name": "python",
   "nbconvert_exporter": "python",
   "pygments_lexer": "ipython3",
   "version": "3.6.3"
  }
 },
 "nbformat": 4,
 "nbformat_minor": 2
}
